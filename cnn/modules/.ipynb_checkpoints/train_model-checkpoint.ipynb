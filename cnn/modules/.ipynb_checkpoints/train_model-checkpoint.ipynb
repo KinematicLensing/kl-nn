{
 "cells": [
  {
   "cell_type": "markdown",
   "id": "bb4becae",
   "metadata": {},
   "source": [
    "### Train model in notebook (inefficient, for testing and debug only)"
   ]
  },
  {
   "cell_type": "code",
   "execution_count": 1,
   "id": "6385cb45-c787-46e9-b3df-152ec3cc6d0c",
   "metadata": {},
   "outputs": [],
   "source": [
    "import os"
   ]
  },
  {
   "cell_type": "code",
   "execution_count": 2,
   "id": "e359b541-f580-4880-84a9-17f02bb9e946",
   "metadata": {},
   "outputs": [],
   "source": [
    "#os.environ['NCCL_DEBUG'] = 'INFO'\n",
    "#os.environ['NCCL_DEBUG_SUBSYS'] = 'ALL'\n",
    "#os.environ['TORCH_DISTRIBUTED_DEBUG'] = 'INFO'\n",
    "os.environ['NCCL_IB_DISABLE'] = '1'\n",
    "os.environ['NCCL_SOCKET_IFNAME'] = 'enp2s0f1np1'\n",
    "os.environ['NCCL_P2P_DISABLE'] = '1'\n",
    "os.environ['NCCL_BLOCKING_WAIT'] = '1'"
   ]
  },
  {
   "cell_type": "code",
   "execution_count": 2,
   "id": "748ac49c",
   "metadata": {},
   "outputs": [],
   "source": [
    "import sys\n",
    "from os.path import join\n",
    "import time\n",
    "import numpy as np\n",
    "import pandas as pd\n",
    "import matplotlib.pyplot as plt\n",
    "import torch\n",
    "from torch import optim, nn\n",
    "import torch.multiprocessing as mp\n",
    "from torch.distributed import init_process_group, destroy_process_group\n",
    "from torch.utils.data.distributed import DistributedSampler\n",
    "from torch.nn.parallel import DistributedDataParallel as DDP\n",
    "from torch.utils.data import DataLoader\n",
    "from astropy.io import fits\n",
    "import pyxis.torch as pxt\n",
    "\n",
    "from networks import *\n",
    "from train import *\n",
    "import config\n",
    "\n",
    "train_dir = '/data/wxs0703/kl-nn/databases/train_database_5m'\n",
    "test_dir = '/data/wxs0703/kl-nn/databases/test_database_5m'\n",
    "fig_dir = '/data/wxs0703/kl-nn/figures/'\n",
    "model_dir = '/data/wxs0703/kl-nn/models/'"
   ]
  },
  {
   "cell_type": "code",
   "execution_count": 3,
   "id": "9ed2a39a",
   "metadata": {},
   "outputs": [
    {
     "data": {
      "text/plain": [
       "8"
      ]
     },
     "execution_count": 3,
     "metadata": {},
     "output_type": "execute_result"
    }
   ],
   "source": [
    "torch.cuda.device_count()"
   ]
  },
  {
   "cell_type": "code",
   "execution_count": 4,
   "id": "827fe39b",
   "metadata": {},
   "outputs": [],
   "source": [
    "world_size = 4\n",
    "save_every = 1\n",
    "nepochs = config.train['epoch_number']\n",
    "batch_size = config.train['batch_size']\n",
    "nfeatures = config.train['feature_number']"
   ]
  },
  {
   "cell_type": "code",
   "execution_count": 3,
   "id": "5440465d",
   "metadata": {
    "scrolled": true
   },
   "outputs": [],
   "source": [
    "os.environ[\"MASTER_ADDR\"] = \"localhost\"\n",
    "os.environ[\"MASTER_PORT\"] = \"12355\"\n",
    "torch.cuda.set_device(0)\n",
    "init_process_group(backend='nccl', rank=0, world_size=1)"
   ]
  },
  {
   "cell_type": "code",
   "execution_count": 4,
   "id": "1197220e",
   "metadata": {},
   "outputs": [],
   "source": [
    "train_ds = pxt.TorchDataset(train_dir)\n",
    "valid_ds = pxt.TorchDataset(test_dir)"
   ]
  },
  {
   "cell_type": "code",
   "execution_count": 5,
   "id": "a366b27f",
   "metadata": {},
   "outputs": [],
   "source": [
    "fid_train = torch.empty((100, 9), dtype=torch.float, device='cuda')"
   ]
  },
  {
   "cell_type": "code",
   "execution_count": 6,
   "id": "e545caf7",
   "metadata": {},
   "outputs": [],
   "source": [
    "for i in range(100):\n",
    "    fid_train[i, :3] = train_ds[i]['fid_pars'][:3]\n",
    "    fid_train[i, 4:] = train_ds[i]['fid_pars'][3:]"
   ]
  },
  {
   "cell_type": "code",
   "execution_count": null,
   "id": "d86c11c0",
   "metadata": {},
   "outputs": [],
   "source": [
    "fid_train"
   ]
  },
  {
   "cell_type": "code",
   "execution_count": 7,
   "id": "6c6a1750",
   "metadata": {},
   "outputs": [],
   "source": [
    "train_dl = DataLoader(\n",
    "        train_ds,\n",
    "        batch_size=batch_size,\n",
    "        pin_memory=True,\n",
    "        sampler=DistributedSampler(train_ds),\n",
    "    )\n",
    "valid_dl = DataLoader(\n",
    "        valid_ds,\n",
    "        batch_size=batch_size,\n",
    "        pin_memory=True,\n",
    "        sampler=DistributedSampler(valid_ds),\n",
    "    )"
   ]
  },
  {
   "cell_type": "code",
   "execution_count": 8,
   "id": "1d74cc7c",
   "metadata": {
    "scrolled": true
   },
   "outputs": [],
   "source": [
    "model = ForkCNN(batch_size)\n",
    "model.to(0)\n",
    "model = DDP(model, device_ids=[0])"
   ]
  },
  {
   "cell_type": "code",
   "execution_count": 9,
   "id": "96e2ac93-0a17-4d3d-bcd6-f67a0324fa48",
   "metadata": {},
   "outputs": [],
   "source": [
    "optimizer = optim.SGD(model.parameters(), \n",
    "                      lr=config.train['initial_learning_rate'],\n",
    "                      momentum=config.train['momentum'])"
   ]
  },
  {
   "cell_type": "code",
   "execution_count": 10,
   "id": "be164fd2-2848-40e8-984c-d24851d07689",
   "metadata": {},
   "outputs": [],
   "source": [
    "trainer = CNNTrainer(model, nfeatures, train_dl, valid_dl, optimizer, 0, save_every, batch_size)"
   ]
  },
  {
   "cell_type": "code",
   "execution_count": 11,
   "id": "03518ec8-d3e3-4b6a-bf2d-cda26483f3ca",
   "metadata": {
    "scrolled": true
   },
   "outputs": [
    {
     "name": "stdout",
     "output_type": "stream",
     "text": [
      "Batch 0 complete\n",
      "Batch 100 complete\n",
      "Batch 200 complete\n",
      "Batch 300 complete\n",
      "Batch 400 complete\n"
     ]
    },
    {
     "ename": "KeyboardInterrupt",
     "evalue": "",
     "output_type": "error",
     "traceback": [
      "\u001b[0;31m---------------------------------------------------------------------------\u001b[0m",
      "\u001b[0;31mKeyboardInterrupt\u001b[0m                         Traceback (most recent call last)",
      "Cell \u001b[0;32mIn[11], line 1\u001b[0m\n\u001b[0;32m----> 1\u001b[0m \u001b[43mtrainer\u001b[49m\u001b[38;5;241;43m.\u001b[39;49m\u001b[43mtrain\u001b[49m\u001b[43m(\u001b[49m\u001b[38;5;241;43m50\u001b[39;49m\u001b[43m)\u001b[49m\n",
      "File \u001b[0;32m~/kl-nn/cnn/modules/train.py:130\u001b[0m, in \u001b[0;36mCNNTrainer.train\u001b[0;34m(self, max_epochs)\u001b[0m\n\u001b[1;32m    128\u001b[0m valid_losses \u001b[38;5;241m=\u001b[39m []\n\u001b[1;32m    129\u001b[0m \u001b[38;5;28;01mfor\u001b[39;00m epoch \u001b[38;5;129;01min\u001b[39;00m \u001b[38;5;28mrange\u001b[39m(max_epochs):\n\u001b[0;32m--> 130\u001b[0m     train_loss, valid_loss \u001b[38;5;241m=\u001b[39m \u001b[38;5;28;43mself\u001b[39;49m\u001b[38;5;241;43m.\u001b[39;49m\u001b[43m_run_epoch\u001b[49m\u001b[43m(\u001b[49m\u001b[43mepoch\u001b[49m\u001b[43m)\u001b[49m\n\u001b[1;32m    131\u001b[0m     scheduler\u001b[38;5;241m.\u001b[39mstep(train_loss)\n\u001b[1;32m    132\u001b[0m     train_losses\u001b[38;5;241m.\u001b[39mappend(train_loss)\n",
      "File \u001b[0;32m~/kl-nn/cnn/modules/train.py:65\u001b[0m, in \u001b[0;36mCNNTrainer._run_epoch\u001b[0;34m(self, epoch, show_log)\u001b[0m\n\u001b[1;32m     63\u001b[0m \u001b[38;5;28mself\u001b[39m\u001b[38;5;241m.\u001b[39mtrain_data\u001b[38;5;241m.\u001b[39msampler\u001b[38;5;241m.\u001b[39mset_epoch(epoch)\n\u001b[1;32m     64\u001b[0m \u001b[38;5;28mself\u001b[39m\u001b[38;5;241m.\u001b[39mvalid_data\u001b[38;5;241m.\u001b[39msampler\u001b[38;5;241m.\u001b[39mset_epoch(epoch)\n\u001b[0;32m---> 65\u001b[0m train_loss \u001b[38;5;241m=\u001b[39m \u001b[38;5;28;43mself\u001b[39;49m\u001b[38;5;241;43m.\u001b[39;49m\u001b[43m_trainFunc\u001b[49m\u001b[43m(\u001b[49m\u001b[43mepoch\u001b[49m\u001b[43m)\u001b[49m\n\u001b[1;32m     66\u001b[0m valid_loss \u001b[38;5;241m=\u001b[39m \u001b[38;5;28mself\u001b[39m\u001b[38;5;241m.\u001b[39m_validFunc(epoch)\n\u001b[1;32m     68\u001b[0m \u001b[38;5;28;01mreturn\u001b[39;00m train_loss, valid_loss\n",
      "File \u001b[0;32m~/kl-nn/cnn/modules/train.py:74\u001b[0m, in \u001b[0;36mCNNTrainer._trainFunc\u001b[0;34m(self, epoch, show_log)\u001b[0m\n\u001b[1;32m     72\u001b[0m losses \u001b[38;5;241m=\u001b[39m []\n\u001b[1;32m     73\u001b[0m epoch_start \u001b[38;5;241m=\u001b[39m time\u001b[38;5;241m.\u001b[39mtime()\n\u001b[0;32m---> 74\u001b[0m \u001b[38;5;28;01mfor\u001b[39;00m i, batch \u001b[38;5;129;01min\u001b[39;00m \u001b[38;5;28menumerate\u001b[39m(\u001b[38;5;28mself\u001b[39m\u001b[38;5;241m.\u001b[39mtrain_data):\n\u001b[1;32m     75\u001b[0m     img \u001b[38;5;241m=\u001b[39m batch[\u001b[38;5;124m'\u001b[39m\u001b[38;5;124mimg\u001b[39m\u001b[38;5;124m'\u001b[39m]\u001b[38;5;241m.\u001b[39mfloat()\u001b[38;5;241m.\u001b[39mto(\u001b[38;5;28mself\u001b[39m\u001b[38;5;241m.\u001b[39mgpu_id)\n\u001b[1;32m     76\u001b[0m     spec \u001b[38;5;241m=\u001b[39m batch[\u001b[38;5;124m'\u001b[39m\u001b[38;5;124mspec\u001b[39m\u001b[38;5;124m'\u001b[39m]\u001b[38;5;241m.\u001b[39mfloat()\u001b[38;5;241m.\u001b[39mto(\u001b[38;5;28mself\u001b[39m\u001b[38;5;241m.\u001b[39mgpu_id)\n",
      "File \u001b[0;32m~/miniconda3/envs/kl-nn/lib/python3.9/site-packages/torch/utils/data/dataloader.py:701\u001b[0m, in \u001b[0;36m_BaseDataLoaderIter.__next__\u001b[0;34m(self)\u001b[0m\n\u001b[1;32m    698\u001b[0m \u001b[38;5;28;01mif\u001b[39;00m \u001b[38;5;28mself\u001b[39m\u001b[38;5;241m.\u001b[39m_sampler_iter \u001b[38;5;129;01mis\u001b[39;00m \u001b[38;5;28;01mNone\u001b[39;00m:\n\u001b[1;32m    699\u001b[0m     \u001b[38;5;66;03m# TODO(https://github.com/pytorch/pytorch/issues/76750)\u001b[39;00m\n\u001b[1;32m    700\u001b[0m     \u001b[38;5;28mself\u001b[39m\u001b[38;5;241m.\u001b[39m_reset()  \u001b[38;5;66;03m# type: ignore[call-arg]\u001b[39;00m\n\u001b[0;32m--> 701\u001b[0m data \u001b[38;5;241m=\u001b[39m \u001b[38;5;28;43mself\u001b[39;49m\u001b[38;5;241;43m.\u001b[39;49m\u001b[43m_next_data\u001b[49m\u001b[43m(\u001b[49m\u001b[43m)\u001b[49m\n\u001b[1;32m    702\u001b[0m \u001b[38;5;28mself\u001b[39m\u001b[38;5;241m.\u001b[39m_num_yielded \u001b[38;5;241m+\u001b[39m\u001b[38;5;241m=\u001b[39m \u001b[38;5;241m1\u001b[39m\n\u001b[1;32m    703\u001b[0m \u001b[38;5;28;01mif\u001b[39;00m (\n\u001b[1;32m    704\u001b[0m     \u001b[38;5;28mself\u001b[39m\u001b[38;5;241m.\u001b[39m_dataset_kind \u001b[38;5;241m==\u001b[39m _DatasetKind\u001b[38;5;241m.\u001b[39mIterable\n\u001b[1;32m    705\u001b[0m     \u001b[38;5;129;01mand\u001b[39;00m \u001b[38;5;28mself\u001b[39m\u001b[38;5;241m.\u001b[39m_IterableDataset_len_called \u001b[38;5;129;01mis\u001b[39;00m \u001b[38;5;129;01mnot\u001b[39;00m \u001b[38;5;28;01mNone\u001b[39;00m\n\u001b[1;32m    706\u001b[0m     \u001b[38;5;129;01mand\u001b[39;00m \u001b[38;5;28mself\u001b[39m\u001b[38;5;241m.\u001b[39m_num_yielded \u001b[38;5;241m>\u001b[39m \u001b[38;5;28mself\u001b[39m\u001b[38;5;241m.\u001b[39m_IterableDataset_len_called\n\u001b[1;32m    707\u001b[0m ):\n",
      "File \u001b[0;32m~/miniconda3/envs/kl-nn/lib/python3.9/site-packages/torch/utils/data/dataloader.py:759\u001b[0m, in \u001b[0;36m_SingleProcessDataLoaderIter._next_data\u001b[0;34m(self)\u001b[0m\n\u001b[1;32m    757\u001b[0m data \u001b[38;5;241m=\u001b[39m \u001b[38;5;28mself\u001b[39m\u001b[38;5;241m.\u001b[39m_dataset_fetcher\u001b[38;5;241m.\u001b[39mfetch(index)  \u001b[38;5;66;03m# may raise StopIteration\u001b[39;00m\n\u001b[1;32m    758\u001b[0m \u001b[38;5;28;01mif\u001b[39;00m \u001b[38;5;28mself\u001b[39m\u001b[38;5;241m.\u001b[39m_pin_memory:\n\u001b[0;32m--> 759\u001b[0m     data \u001b[38;5;241m=\u001b[39m \u001b[43m_utils\u001b[49m\u001b[38;5;241;43m.\u001b[39;49m\u001b[43mpin_memory\u001b[49m\u001b[38;5;241;43m.\u001b[39;49m\u001b[43mpin_memory\u001b[49m\u001b[43m(\u001b[49m\u001b[43mdata\u001b[49m\u001b[43m,\u001b[49m\u001b[43m \u001b[49m\u001b[38;5;28;43mself\u001b[39;49m\u001b[38;5;241;43m.\u001b[39;49m\u001b[43m_pin_memory_device\u001b[49m\u001b[43m)\u001b[49m\n\u001b[1;32m    760\u001b[0m \u001b[38;5;28;01mreturn\u001b[39;00m data\n",
      "File \u001b[0;32m~/miniconda3/envs/kl-nn/lib/python3.9/site-packages/torch/utils/data/_utils/pin_memory.py:75\u001b[0m, in \u001b[0;36mpin_memory\u001b[0;34m(data, device)\u001b[0m\n\u001b[1;32m     69\u001b[0m \u001b[38;5;28;01mif\u001b[39;00m \u001b[38;5;28misinstance\u001b[39m(data, collections\u001b[38;5;241m.\u001b[39mabc\u001b[38;5;241m.\u001b[39mMutableMapping):\n\u001b[1;32m     70\u001b[0m     \u001b[38;5;66;03m# The sequence type may have extra properties, so we can't just\u001b[39;00m\n\u001b[1;32m     71\u001b[0m     \u001b[38;5;66;03m# use `type(data)(...)` to create the new sequence.\u001b[39;00m\n\u001b[1;32m     72\u001b[0m     \u001b[38;5;66;03m# Create a clone and update it if the sequence type is mutable.\u001b[39;00m\n\u001b[1;32m     73\u001b[0m     clone \u001b[38;5;241m=\u001b[39m copy\u001b[38;5;241m.\u001b[39mcopy(data)\n\u001b[1;32m     74\u001b[0m     clone\u001b[38;5;241m.\u001b[39mupdate(\n\u001b[0;32m---> 75\u001b[0m         {k: pin_memory(sample, device) \u001b[38;5;28;01mfor\u001b[39;00m k, sample \u001b[38;5;129;01min\u001b[39;00m data\u001b[38;5;241m.\u001b[39mitems()}\n\u001b[1;32m     76\u001b[0m     )\n\u001b[1;32m     77\u001b[0m     \u001b[38;5;28;01mreturn\u001b[39;00m clone\n\u001b[1;32m     78\u001b[0m \u001b[38;5;28;01melse\u001b[39;00m:\n",
      "File \u001b[0;32m~/miniconda3/envs/kl-nn/lib/python3.9/site-packages/torch/utils/data/_utils/pin_memory.py:75\u001b[0m, in \u001b[0;36m<dictcomp>\u001b[0;34m(.0)\u001b[0m\n\u001b[1;32m     69\u001b[0m \u001b[38;5;28;01mif\u001b[39;00m \u001b[38;5;28misinstance\u001b[39m(data, collections\u001b[38;5;241m.\u001b[39mabc\u001b[38;5;241m.\u001b[39mMutableMapping):\n\u001b[1;32m     70\u001b[0m     \u001b[38;5;66;03m# The sequence type may have extra properties, so we can't just\u001b[39;00m\n\u001b[1;32m     71\u001b[0m     \u001b[38;5;66;03m# use `type(data)(...)` to create the new sequence.\u001b[39;00m\n\u001b[1;32m     72\u001b[0m     \u001b[38;5;66;03m# Create a clone and update it if the sequence type is mutable.\u001b[39;00m\n\u001b[1;32m     73\u001b[0m     clone \u001b[38;5;241m=\u001b[39m copy\u001b[38;5;241m.\u001b[39mcopy(data)\n\u001b[1;32m     74\u001b[0m     clone\u001b[38;5;241m.\u001b[39mupdate(\n\u001b[0;32m---> 75\u001b[0m         {k: \u001b[43mpin_memory\u001b[49m\u001b[43m(\u001b[49m\u001b[43msample\u001b[49m\u001b[43m,\u001b[49m\u001b[43m \u001b[49m\u001b[43mdevice\u001b[49m\u001b[43m)\u001b[49m \u001b[38;5;28;01mfor\u001b[39;00m k, sample \u001b[38;5;129;01min\u001b[39;00m data\u001b[38;5;241m.\u001b[39mitems()}\n\u001b[1;32m     76\u001b[0m     )\n\u001b[1;32m     77\u001b[0m     \u001b[38;5;28;01mreturn\u001b[39;00m clone\n\u001b[1;32m     78\u001b[0m \u001b[38;5;28;01melse\u001b[39;00m:\n",
      "File \u001b[0;32m~/miniconda3/envs/kl-nn/lib/python3.9/site-packages/torch/utils/data/_utils/pin_memory.py:64\u001b[0m, in \u001b[0;36mpin_memory\u001b[0;34m(data, device)\u001b[0m\n\u001b[1;32m     62\u001b[0m \u001b[38;5;28;01mdef\u001b[39;00m\u001b[38;5;250m \u001b[39m\u001b[38;5;21mpin_memory\u001b[39m(data, device\u001b[38;5;241m=\u001b[39m\u001b[38;5;28;01mNone\u001b[39;00m):\n\u001b[1;32m     63\u001b[0m     \u001b[38;5;28;01mif\u001b[39;00m \u001b[38;5;28misinstance\u001b[39m(data, torch\u001b[38;5;241m.\u001b[39mTensor):\n\u001b[0;32m---> 64\u001b[0m         \u001b[38;5;28;01mreturn\u001b[39;00m \u001b[43mdata\u001b[49m\u001b[38;5;241;43m.\u001b[39;49m\u001b[43mpin_memory\u001b[49m\u001b[43m(\u001b[49m\u001b[43mdevice\u001b[49m\u001b[43m)\u001b[49m\n\u001b[1;32m     65\u001b[0m     \u001b[38;5;28;01melif\u001b[39;00m \u001b[38;5;28misinstance\u001b[39m(data, (\u001b[38;5;28mstr\u001b[39m, \u001b[38;5;28mbytes\u001b[39m)):\n\u001b[1;32m     66\u001b[0m         \u001b[38;5;28;01mreturn\u001b[39;00m data\n",
      "\u001b[0;31mKeyboardInterrupt\u001b[0m: "
     ]
    }
   ],
   "source": [
    "trainer.train(50)"
   ]
  },
  {
   "cell_type": "code",
   "execution_count": 12,
   "id": "17e8774f",
   "metadata": {},
   "outputs": [],
   "source": [
    "destroy_process_group()"
   ]
  },
  {
   "cell_type": "code",
   "execution_count": null,
   "id": "bb680414",
   "metadata": {
    "scrolled": true
   },
   "outputs": [
    {
     "name": "stderr",
     "output_type": "stream",
     "text": [
      "INFO:Setup:Initializing\n",
      "[W416 21:36:29.598625861 Utils.hpp:164] Warning: Environment variable NCCL_BLOCKING_WAIT is deprecated; use TORCH_NCCL_BLOCKING_WAIT instead (function operator())\n",
      "INFO:Setup:[rank: 0] Successfully set up device\n",
      "[rank0]:[W416 21:36:30.282120524 Utils.hpp:110] Warning: Environment variable NCCL_BLOCKING_WAIT is deprecated; use TORCH_NCCL_BLOCKING_WAIT instead (function operator())\n",
      "INFO:Setup:[rank: 0] Successfully loaded training objects\n",
      "INFO:Setup:[rank: 0] Successfully prepared dataloader\n",
      "INFO:Setup:[rank: 0] Successfully initialized Trainer\n",
      "INFO:Trainer:Batch 0 complete\n"
     ]
    }
   ],
   "source": [
    "mp.spawn(train_nn, args=(world_size, ForkCNN, CNNTrainer), nprocs=world_size)"
   ]
  }
 ],
 "metadata": {
  "kernelspec": {
   "display_name": "kl-nn",
   "language": "python",
   "name": "kl-nn"
  },
  "language_info": {
   "codemirror_mode": {
    "name": "ipython",
    "version": 3
   },
   "file_extension": ".py",
   "mimetype": "text/x-python",
   "name": "python",
   "nbconvert_exporter": "python",
   "pygments_lexer": "ipython3",
   "version": "3.9.21"
  }
 },
 "nbformat": 4,
 "nbformat_minor": 5
}
