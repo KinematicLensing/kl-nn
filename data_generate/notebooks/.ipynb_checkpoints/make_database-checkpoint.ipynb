{
 "cells": [
  {
   "cell_type": "code",
   "execution_count": 1,
   "id": "dd4ffd19",
   "metadata": {},
   "outputs": [],
   "source": [
    "from __future__ import print_function\n",
    "from os.path import join\n",
    "import time\n",
    "\n",
    "import numpy as np\n",
    "import pandas as pd\n",
    "import pyxis as px\n",
    "from astropy.io import fits\n",
    "import matplotlib.pyplot as plt\n",
    "import torch"
   ]
  },
  {
   "cell_type": "code",
   "execution_count": 2,
   "id": "926872c8",
   "metadata": {},
   "outputs": [],
   "source": [
    "def normalize(form, data, pars=None):\n",
    "    '''\n",
    "    Normalizes data into one of three forms:\n",
    "    '01': normalize between 0 and 1, pars = (min, max)\n",
    "    '-11': normalize between -1 and 1, pars = (min, max)\n",
    "    'std': standardize to center around 0 with std dev of 1, pars = (mean, std)\n",
    "    '''\n",
    "    if form == 'std': \n",
    "        mean, std = pars if pars is not None else (data.mean(), data.std())\n",
    "        new_data = (data-mean)/std\n",
    "        \n",
    "        return new_data\n",
    "    \n",
    "    else:\n",
    "        min_val, max_val = pars if pars is not None else (np.min(data), np.max(data))\n",
    "        \n",
    "        if form == '01':\n",
    "            new_data = (data - min_val)/(max_val-min_val)\n",
    "            \n",
    "            return new_data\n",
    "        \n",
    "        elif form == '-11':\n",
    "            new_data = (2*data - (max_val+min_val))/(max_val-min_val)\n",
    "            \n",
    "            return new_data\n",
    "        \n",
    "        else:\n",
    "            raise ValueError(\"Invalid form, must be '01', '-11', or 'std'.\")"
   ]
  },
  {
   "cell_type": "code",
   "execution_count": 3,
   "id": "7335ecff",
   "metadata": {},
   "outputs": [],
   "source": [
    "par_ranges = \\\n",
    "{\n",
    "    'g1': [-0.1, 0.1],\n",
    "    'g2': [-0.1, 0.1],\n",
    "    'theta_int': [-np.pi, np.pi],\n",
    "    'sini': [0, 1],\n",
    "    'v0': [-30, 30],\n",
    "    'vcirc': [60, 540],\n",
    "    'rscale': [0.1, 10],\n",
    "    'hlr': [0.1, 5],\n",
    "}"
   ]
  },
  {
   "cell_type": "markdown",
   "id": "cc562714",
   "metadata": {},
   "source": [
    "### Create database"
   ]
  },
  {
   "cell_type": "code",
   "execution_count": 6,
   "id": "faca625d",
   "metadata": {
    "scrolled": true
   },
   "outputs": [
    {
     "name": "stdout",
     "output_type": "stream",
     "text": [
      "folder 1 complete, 0.26 seconds\n",
      "folder 2 complete, 0.32 seconds\n",
      "folder 3 complete, 3.64 seconds\n",
      "folder 4 complete, 2.02 seconds\n",
      "folder 5 complete, 2.56 seconds\n",
      "folder 6 complete, 2.51 seconds\n",
      "folder 7 complete, 2.33 seconds\n",
      "folder 8 complete, 3.14 seconds\n",
      "folder 9 complete, 2.34 seconds\n",
      "folder 10 complete, 2.28 seconds\n",
      "folder 11 complete, 1.87 seconds\n",
      "folder 12 complete, 2.1 seconds\n",
      "folder 13 complete, 1.84 seconds\n",
      "folder 14 complete, 2.45 seconds\n",
      "folder 15 complete, 1.81 seconds\n",
      "folder 16 complete, 2.24 seconds\n",
      "folder 17 complete, 1.96 seconds\n",
      "folder 18 complete, 1.83 seconds\n",
      "folder 19 complete, 1.63 seconds\n",
      "folder 20 complete, 1.87 seconds\n",
      "folder 21 complete, 2.27 seconds\n",
      "folder 22 complete, 1.85 seconds\n",
      "folder 23 complete, 2.07 seconds\n",
      "folder 24 complete, 1.99 seconds\n",
      "folder 25 complete, 1.75 seconds\n",
      "folder 26 complete, 1.92 seconds\n",
      "folder 27 complete, 1.9 seconds\n",
      "folder 28 complete, 2.01 seconds\n",
      "folder 29 complete, 1.85 seconds\n",
      "folder 30 complete, 2.11 seconds\n",
      "folder 31 complete, 1.69 seconds\n",
      "folder 32 complete, 2.36 seconds\n",
      "folder 33 complete, 1.74 seconds\n",
      "folder 34 complete, 2.01 seconds\n",
      "folder 35 complete, 1.57 seconds\n",
      "folder 36 complete, 2.37 seconds\n",
      "folder 37 complete, 2.27 seconds\n",
      "folder 38 complete, 2.71 seconds\n",
      "folder 39 complete, 1.81 seconds\n",
      "folder 40 complete, 2.11 seconds\n",
      "folder 41 complete, 1.9 seconds\n",
      "folder 42 complete, 1.71 seconds\n",
      "folder 43 complete, 1.43 seconds\n",
      "folder 44 complete, 2.35 seconds\n",
      "folder 45 complete, 1.89 seconds\n",
      "folder 46 complete, 2.07 seconds\n",
      "folder 47 complete, 1.96 seconds\n",
      "folder 48 complete, 2.29 seconds\n",
      "folder 49 complete, 2.88 seconds\n",
      "folder 50 complete, 1.97 seconds\n",
      "folder 51 complete, 2.83 seconds\n",
      "folder 52 complete, 1.8 seconds\n",
      "folder 53 complete, 2.43 seconds\n",
      "folder 54 complete, 2.24 seconds\n",
      "folder 55 complete, 2.87 seconds\n",
      "folder 56 complete, 2.17 seconds\n",
      "folder 57 complete, 2.41 seconds\n",
      "folder 58 complete, 1.94 seconds\n",
      "folder 59 complete, 1.71 seconds\n",
      "folder 60 complete, 2.96 seconds\n",
      "folder 61 complete, 2.06 seconds\n",
      "folder 62 complete, 2.76 seconds\n",
      "folder 63 complete, 2.66 seconds\n",
      "folder 64 complete, 1.8 seconds\n",
      "folder 65 complete, 2.21 seconds\n",
      "folder 66 complete, 1.5 seconds\n",
      "folder 67 complete, 1.83 seconds\n",
      "folder 68 complete, 2.57 seconds\n",
      "folder 69 complete, 2.3 seconds\n",
      "folder 70 complete, 1.9 seconds\n",
      "folder 71 complete, 2.4 seconds\n",
      "folder 72 complete, 1.52 seconds\n",
      "folder 73 complete, 1.75 seconds\n",
      "folder 74 complete, 2.31 seconds\n",
      "folder 75 complete, 2.87 seconds\n",
      "folder 76 complete, 1.8 seconds\n",
      "folder 77 complete, 1.81 seconds\n",
      "folder 78 complete, 1.36 seconds\n",
      "folder 79 complete, 2.12 seconds\n",
      "folder 80 complete, 2.27 seconds\n",
      "folder 81 complete, 3.4 seconds\n",
      "folder 82 complete, 2.54 seconds\n",
      "folder 83 complete, 2.01 seconds\n",
      "folder 84 complete, 2.81 seconds\n",
      "folder 85 complete, 2.58 seconds\n",
      "folder 86 complete, 1.68 seconds\n",
      "folder 87 complete, 1.73 seconds\n",
      "folder 88 complete, 1.64 seconds\n",
      "folder 89 complete, 2.16 seconds\n",
      "folder 90 complete, 2.29 seconds\n",
      "folder 91 complete, 1.71 seconds\n",
      "folder 92 complete, 2.06 seconds\n",
      "folder 93 complete, 1.74 seconds\n",
      "folder 94 complete, 2.11 seconds\n",
      "folder 95 complete, 2.46 seconds\n",
      "folder 96 complete, 1.82 seconds\n",
      "folder 97 complete, 1.61 seconds\n",
      "folder 98 complete, 2.04 seconds\n",
      "folder 99 complete, 1.53 seconds\n",
      "folder 100 complete, 1.44 seconds\n"
     ]
    }
   ],
   "source": [
    "n = 100 # number of samples per database entry\n",
    "N = 100 # number of database entries (number of \"parts\" in the fits folder)\n",
    "data_dir = '/ocean/projects/phy250048p/shared/fits/small/'\n",
    "samp_dir = '/ocean/projects/phy250048p/shared/samples/samples_small.csv'\n",
    "save_dir = '/ocean/projects/phy250048p/shared/datasets/small'\n",
    "samples = pd.read_csv(samp_dir)\n",
    "for i, values in enumerate(par_ranges.values()):\n",
    "    samples.iloc[:, i+1] = normalize('-11', samples.iloc[:, i+1], values)\n",
    "samples.to_csv('/ocean/projects/phy250048p/shared/samples/normalized/samples_small_normalized.csv', index=False)\n",
    "    \n",
    "with px.Writer(dirpath=save_dir, map_size_limit=200000, ram_gb_limit=8) as db:\n",
    "    \n",
    "    for index in range(N):\n",
    "        start = time.time()\n",
    "        folder = index+1\n",
    "        img_stack = np.full((n, 1, 48, 48), 0.)\n",
    "        spec_stack = np.full((n, 1, 3, 64), 0.)\n",
    "        start_id = index*n\n",
    "        file_id = index*n\n",
    "        ids = np.arange(start_id, start_id+n, dtype=np.uint64)\n",
    "        fids = np.array(samples.iloc[ids])[:, 1:3]\n",
    "\n",
    "        for i in range(n):\n",
    "            \n",
    "            ID = file_id + i\n",
    "\n",
    "            with fits.open(join(data_dir, f'part_{folder}/gal_{ID}.fits')) as hdu:\n",
    "                img_stack[i, 0] = hdu[4].data\n",
    "                \n",
    "                specs = np.full((3, 64), 0.)\n",
    "                for k in range(3):\n",
    "                    spec = hdu[k+1].data\n",
    "                    specs[k, :spec.shape[0]] = spec\n",
    "                spec_stack[i, 0] = specs\n",
    "        \n",
    "        # img_stack = normalize('std', img_stack, (img_mean, img_std))\n",
    "        # spec_stack = normalize('std', spec_stack, (spec_mean, spec_std))\n",
    "        \n",
    "        db.put_samples({'img': img_stack,\n",
    "                        'spec': spec_stack,\n",
    "                        'fid_pars': fids,\n",
    "                        'id': ids})\n",
    "        t = round(time.time() - start, 2)\n",
    "        \n",
    "        print(f'folder {folder} complete, {t} seconds')"
   ]
  },
  {
   "cell_type": "markdown",
   "id": "6a0932ee",
   "metadata": {},
   "source": [
    "#### Code to test if database is generated properly"
   ]
  },
  {
   "cell_type": "code",
   "execution_count": 7,
   "id": "dcfa3eb4-eb1e-4ef4-9782-818a08861c74",
   "metadata": {},
   "outputs": [],
   "source": [
    "save_dir = '/ocean/projects/phy250048p/shared/datasets/small'"
   ]
  },
  {
   "cell_type": "code",
   "execution_count": 8,
   "id": "452687e0",
   "metadata": {},
   "outputs": [],
   "source": [
    "img_stack = torch.empty((200, 1, 48, 48))\n",
    "snr = torch.rand((200))*95 + 5"
   ]
  },
  {
   "cell_type": "code",
   "execution_count": 12,
   "id": "8f33262b",
   "metadata": {},
   "outputs": [
    {
     "name": "stdout",
     "output_type": "stream",
     "text": [
      "pyxis.Reader\n",
      "Location:\t\t'/ocean/projects/phy250048p/shared/datasets/small'\n",
      "Number of samples:\t10000\n",
      "Data keys (0th sample):\n",
      "\t'img' <- dtype: float64, shape: (1, 48, 48)\n",
      "\t'spec' <- dtype: float64, shape: (1, 3, 64)\n",
      "\t'fid_pars' <- dtype: float64, shape: (2,)\n",
      "\t'id' <- dtype: uint64, shape: ()\n"
     ]
    }
   ],
   "source": [
    "with px.Reader(save_dir) as db:\n",
    "    print(db)\n",
    "    for i in range(200):\n",
    "        img_stack[i] = torch.from_numpy(db[i]['img'])"
   ]
  },
  {
   "cell_type": "code",
   "execution_count": 46,
   "id": "efc33a67",
   "metadata": {},
   "outputs": [],
   "source": [
    "noise = torch.randn((200,1, 48,48))"
   ]
  },
  {
   "cell_type": "code",
   "execution_count": 89,
   "id": "dd2d91aa",
   "metadata": {},
   "outputs": [
    {
     "name": "stdout",
     "output_type": "stream",
     "text": [
      "tensor(23.9029)\n"
     ]
    }
   ],
   "source": [
    "print(torch.sum((noise[0,0]*0.5)**2)**0.5)"
   ]
  },
  {
   "cell_type": "code",
   "execution_count": 162,
   "id": "da54619e",
   "metadata": {},
   "outputs": [],
   "source": [
    "maxs = torch.amax(img_stack, dim=(-1, -2, -3))\n",
    "seg = img_stack > 0.1*maxs.view(-1, 1, 1, 1)\n",
    "npix = torch.sum(seg, dim=(-1, -2, -3))\n",
    "avg = torch.sum(img_stack, dim=(-1, -2, -3))/npix"
   ]
  },
  {
   "cell_type": "code",
   "execution_count": 142,
   "id": "17d25f15",
   "metadata": {},
   "outputs": [
    {
     "name": "stdout",
     "output_type": "stream",
     "text": [
      "tensor(76.5059)\n"
     ]
    }
   ],
   "source": [
    "print(maxs[1])"
   ]
  },
  {
   "cell_type": "code",
   "execution_count": 143,
   "id": "6844608c",
   "metadata": {},
   "outputs": [],
   "source": [
    "factor = avg/snr\n",
    "data = img_stack + noise*torch.sqrt(factor.view(-1, 1, 1, 1))\n",
    "mean = data.mean()\n",
    "std = data.std()"
   ]
  },
  {
   "cell_type": "code",
   "execution_count": 153,
   "id": "ce3d3939",
   "metadata": {},
   "outputs": [],
   "source": [
    "whr = torch.where(snr > 90)"
   ]
  },
  {
   "cell_type": "code",
   "execution_count": 158,
   "id": "4589e7ff",
   "metadata": {},
   "outputs": [],
   "source": [
    "i = whr[0][1]"
   ]
  },
  {
   "cell_type": "code",
   "execution_count": 159,
   "id": "4c56b899",
   "metadata": {},
   "outputs": [
    {
     "name": "stdout",
     "output_type": "stream",
     "text": [
      "tensor(97.5421) tensor(59.8838) tensor(0.6139)\n"
     ]
    }
   ],
   "source": [
    "print(snr[i], avg[i], factor[i])"
   ]
  },
  {
   "cell_type": "code",
   "execution_count": 160,
   "id": "2ece8800",
   "metadata": {
    "scrolled": true
   },
   "outputs": [
    {
     "data": {
      "text/plain": [
       "<matplotlib.image.AxesImage at 0x707eb8485c40>"
      ]
     },
     "execution_count": 160,
     "metadata": {},
     "output_type": "execute_result"
    },
    {
     "data": {
      "image/png": "[encoded data removed]",
      "text/plain": [
       "<Figure size 640x480 with 1 Axes>"
      ]
     },
     "metadata": {},
     "output_type": "display_data"
    }
   ],
   "source": [
    "plt.imshow(data[i, 0])"
   ]
  },
  {
   "cell_type": "code",
   "execution_count": 150,
   "id": "66928514",
   "metadata": {},
   "outputs": [],
   "source": [
    "img_seg = torch.clone(img_stack)\n",
    "img_seg[~seg] = 0"
   ]
  },
  {
   "cell_type": "code",
   "execution_count": 161,
   "id": "31b7e4f7",
   "metadata": {},
   "outputs": [
    {
     "data": {
      "text/plain": [
       "<matplotlib.image.AxesImage at 0x707eb8449e50>"
      ]
     },
     "execution_count": 161,
     "metadata": {},
     "output_type": "execute_result"
    },
    {
     "data": {
      "image/png": "[encoded data removed]",
      "text/plain": [
       "<Figure size 640x480 with 1 Axes>"
      ]
     },
     "metadata": {},
     "output_type": "display_data"
    }
   ],
   "source": [
    "plt.imshow(img_seg[i, 0])"
   ]
  },
  {
   "cell_type": "code",
   "execution_count": 40,
   "id": "6d260a7d",
   "metadata": {},
   "outputs": [
    {
     "data": {
      "text/plain": [
       "[<matplotlib.lines.Line2D at 0x7f3291d05c40>]"
      ]
     },
     "execution_count": 40,
     "metadata": {},
     "output_type": "execute_result"
    },
    {
     "data": {
      "image/png": "[encoded data removed]",
      "text/plain": [
       "<Figure size 640x480 with 1 Axes>"
      ]
     },
     "metadata": {},
     "output_type": "display_data"
    }
   ],
   "source": [
    "plt.plot(spec[0])"
   ]
  }
 ],
 "metadata": {
  "kernelspec": {
   "display_name": "kl-nn",
   "language": "python",
   "name": "kl-nn"
  },
  "language_info": {
   "codemirror_mode": {
    "name": "ipython",
    "version": 3
   },
   "file_extension": ".py",
   "mimetype": "text/x-python",
   "name": "python",
   "nbconvert_exporter": "python",
   "pygments_lexer": "ipython3",
   "version": "3.10.18"
  }
 },
 "nbformat": 4,
 "nbformat_minor": 5
}
