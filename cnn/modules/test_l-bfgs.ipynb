{
 "cells": [
  {
   "cell_type": "code",
   "execution_count": 1,
   "id": "bc11bb29",
   "metadata": {},
   "outputs": [
    {
     "ename": "ImportError",
     "evalue": "/lib64/libm.so.6: version `GLIBC_2.27' not found (required by /home/u2/wxs0703/.conda/envs/kl-nn/lib/python3.9/site-packages/torch/lib/../../../../libcurand.so.10)",
     "output_type": "error",
     "traceback": [
      "\u001b[0;31m---------------------------------------------------------------------------\u001b[0m",
      "\u001b[0;31mImportError\u001b[0m                               Traceback (most recent call last)",
      "Cell \u001b[0;32mIn[1], line 1\u001b[0m\n\u001b[0;32m----> 1\u001b[0m \u001b[38;5;28;01mimport\u001b[39;00m\u001b[38;5;250m \u001b[39m\u001b[38;5;21;01mtorch\u001b[39;00m\n\u001b[1;32m      2\u001b[0m \u001b[38;5;28;01mimport\u001b[39;00m\u001b[38;5;250m \u001b[39m\u001b[38;5;21;01mtorch\u001b[39;00m\u001b[38;5;21;01m.\u001b[39;00m\u001b[38;5;21;01moptim\u001b[39;00m\u001b[38;5;250m \u001b[39m\u001b[38;5;28;01mas\u001b[39;00m\u001b[38;5;250m \u001b[39m\u001b[38;5;21;01moptim\u001b[39;00m\n\u001b[1;32m      3\u001b[0m \u001b[38;5;28;01mimport\u001b[39;00m\u001b[38;5;250m \u001b[39m\u001b[38;5;21;01mmatplotlib\u001b[39;00m\u001b[38;5;21;01m.\u001b[39;00m\u001b[38;5;21;01mpyplot\u001b[39;00m\u001b[38;5;250m \u001b[39m\u001b[38;5;28;01mas\u001b[39;00m\u001b[38;5;250m \u001b[39m\u001b[38;5;21;01mplt\u001b[39;00m\n",
      "File \u001b[0;32m~/.conda/envs/kl-nn/lib/python3.9/site-packages/torch/__init__.py:367\u001b[0m\n\u001b[1;32m    365\u001b[0m     \u001b[38;5;28;01mif\u001b[39;00m USE_GLOBAL_DEPS:\n\u001b[1;32m    366\u001b[0m         _load_global_deps()\n\u001b[0;32m--> 367\u001b[0m     \u001b[38;5;28;01mfrom\u001b[39;00m\u001b[38;5;250m \u001b[39m\u001b[38;5;21;01mtorch\u001b[39;00m\u001b[38;5;21;01m.\u001b[39;00m\u001b[38;5;21;01m_C\u001b[39;00m\u001b[38;5;250m \u001b[39m\u001b[38;5;28;01mimport\u001b[39;00m \u001b[38;5;241m*\u001b[39m  \u001b[38;5;66;03m# noqa: F403\u001b[39;00m\n\u001b[1;32m    370\u001b[0m \u001b[38;5;28;01mclass\u001b[39;00m\u001b[38;5;250m \u001b[39m\u001b[38;5;21;01mSymInt\u001b[39;00m:\n\u001b[1;32m    371\u001b[0m \u001b[38;5;250m    \u001b[39m\u001b[38;5;124;03m\"\"\"\u001b[39;00m\n\u001b[1;32m    372\u001b[0m \u001b[38;5;124;03m    Like an int (including magic methods), but redirects all operations on the\u001b[39;00m\n\u001b[1;32m    373\u001b[0m \u001b[38;5;124;03m    wrapped node. This is used in particular to symbolically record operations\u001b[39;00m\n\u001b[1;32m    374\u001b[0m \u001b[38;5;124;03m    in the symbolic shape workflow.\u001b[39;00m\n\u001b[1;32m    375\u001b[0m \u001b[38;5;124;03m    \"\"\"\u001b[39;00m\n",
      "\u001b[0;31mImportError\u001b[0m: /lib64/libm.so.6: version `GLIBC_2.27' not found (required by /home/u2/wxs0703/.conda/envs/kl-nn/lib/python3.9/site-packages/torch/lib/../../../../libcurand.so.10)"
     ]
    }
   ],
   "source": [
    "import torch\n",
    "import torch.optim as optim\n",
    "import matplotlib.pyplot as plt"
   ]
  },
  {
   "cell_type": "code",
   "execution_count": null,
   "id": "e8edf27b",
   "metadata": {},
   "outputs": [],
   "source": [
    "# 2d Rosenbrock function\n",
    "def f(x):\n",
    "    return (1 - x[0])**2 + 100 * (x[1] - x[0]**2)**2"
   ]
  },
  {
   "cell_type": "code",
   "execution_count": null,
   "id": "30ac15ad",
   "metadata": {},
   "outputs": [],
   "source": [
    "# Gradient descent\n",
    "x_gd = 10*torch.ones(2, 1)\n",
    "x_gd.requires_grad = True\n",
    "gd = optim.SGD([x_gd], lr=1e-5)\n",
    "history_gd = []\n",
    "for i in range(100):\n",
    "    gd.zero_grad()\n",
    "    objective = f(x_gd)\n",
    "    objective.backward()\n",
    "    gd.step()\n",
    "    history_gd.append(objective.item())"
   ]
  },
  {
   "cell_type": "code",
   "execution_count": null,
   "id": "a8d1360f",
   "metadata": {},
   "outputs": [],
   "source": [
    "# L-BFGS\n",
    "def closure():\n",
    "    lbfgs.zero_grad()\n",
    "    objective = f(x_lbfgs)\n",
    "    objective.backward()\n",
    "    return objective"
   ]
  },
  {
   "cell_type": "code",
   "execution_count": null,
   "id": "067a17e5",
   "metadata": {},
   "outputs": [],
   "source": [
    "x_lbfgs = 10*torch.ones(2, 1)\n",
    "x_lbfgs.requires_grad = True\n",
    "\n",
    "lbfgs = optim.LBFGS([x_lbfgs],\n",
    "                    history_size=10, \n",
    "                    max_iter=4, \n",
    "                    line_search_fn=\"strong_wolfe\")\n",
    "                    \n",
    "history_lbfgs = []\n",
    "for i in range(100):\n",
    "    history_lbfgs.append(f(x_lbfgs).item())\n",
    "    lbfgs.step(closure)"
   ]
  },
  {
   "cell_type": "code",
   "execution_count": null,
   "id": "ac08c646",
   "metadata": {},
   "outputs": [],
   "source": [
    "# Plotting\n",
    "plt.semilogy(history_gd, label='GD')\n",
    "plt.semilogy(history_lbfgs, label='L-BFGS')\n",
    "plt.legend()\n",
    "plt.savefig('gd_vs_l-bfgs.jpg', dpi=300)\n",
    "plt.show()"
   ]
  }
 ],
 "metadata": {
  "kernelspec": {
   "display_name": "kl-nn",
   "language": "python",
   "name": "kl-nn"
  },
  "language_info": {
   "codemirror_mode": {
    "name": "ipython",
    "version": 3
   },
   "file_extension": ".py",
   "mimetype": "text/x-python",
   "name": "python",
   "nbconvert_exporter": "python",
   "pygments_lexer": "ipython3",
   "version": "3.9.21"
  }
 },
 "nbformat": 4,
 "nbformat_minor": 5
}
