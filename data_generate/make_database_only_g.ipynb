{
 "cells": [
  {
   "cell_type": "code",
   "execution_count": 1,
   "id": "dd4ffd19",
   "metadata": {},
   "outputs": [],
   "source": [
    "from __future__ import print_function\n",
    "from os.path import join\n",
    "import time\n",
    "\n",
    "import numpy as np\n",
    "import pandas as pd\n",
    "import pyxis as px\n",
    "from astropy.io import fits\n",
    "import matplotlib.pyplot as plt"
   ]
  },
  {
   "cell_type": "markdown",
   "id": "bcd69fcc",
   "metadata": {},
   "source": [
    "#### Find range of noise to normalize over"
   ]
  },
  {
   "cell_type": "code",
   "execution_count": 12,
   "id": "a02c800e",
   "metadata": {
    "scrolled": true
   },
   "outputs": [
    {
     "name": "stdout",
     "output_type": "stream",
     "text": [
      "Folder 1 complete\n",
      "Folder 2 complete\n",
      "Folder 3 complete\n",
      "Folder 4 complete\n",
      "Folder 5 complete\n",
      "Folder 6 complete\n",
      "Folder 7 complete\n",
      "Folder 8 complete\n",
      "Folder 9 complete\n",
      "Folder 10 complete\n",
      "Folder 11 complete\n",
      "Folder 12 complete\n",
      "Folder 13 complete\n",
      "Folder 14 complete\n",
      "Folder 15 complete\n",
      "Folder 16 complete\n",
      "Folder 17 complete\n",
      "Folder 18 complete\n",
      "Folder 19 complete\n",
      "Folder 20 complete\n",
      "Folder 21 complete\n",
      "Folder 22 complete\n",
      "Folder 23 complete\n",
      "Folder 24 complete\n",
      "Folder 25 complete\n"
     ]
    }
   ],
   "source": [
    "n = 4000\n",
    "data_dir = '/xdisk/timeifler/wxs0703/kl_nn/test_data_low_g/'\n",
    "mins = np.empty((100000,), dtype=np.float64)\n",
    "maxs = np.empty((100000,), dtype=np.float64)\n",
    "for index in range(5):\n",
    "    folder = index+1\n",
    "    start_id = index*n\n",
    "    for i in range(n):\n",
    "        ID = start_id + i\n",
    "        with fits.open(join(data_dir, f'temp_{folder}/testing_{ID}.fits')) as hdu:\n",
    "            data = np.concatenate((hdu[1].data + hdu[2].data, hdu[3].data + hdu[4].data, hdu[5].data + hdu[6].data))\n",
    "            mins[ID] = np.min(data)\n",
    "            maxs[ID] = np.max(data)\n",
    "    print(f'Folder {folder} complete')"
   ]
  },
  {
   "cell_type": "code",
   "execution_count": 15,
   "id": "29e063c0",
   "metadata": {},
   "outputs": [
    {
     "name": "stdout",
     "output_type": "stream",
     "text": [
      "-179.40306021006285\n",
      "184.83903049721658\n"
     ]
    }
   ],
   "source": [
    "total = np.concatenate((maxs, mins))\n",
    "print(np.min(total))\n",
    "print(np.max(total))"
   ]
  },
  {
   "cell_type": "markdown",
   "id": "d1ac5b80",
   "metadata": {},
   "source": [
    "### Start here to create database"
   ]
  },
  {
   "cell_type": "code",
   "execution_count": 2,
   "id": "511b28c4",
   "metadata": {},
   "outputs": [],
   "source": [
    "def normalize(samples):\n",
    "    for par, values in samples.items():\n",
    "        if par in par_ranges.keys():\n",
    "            low, high = par_ranges[par]\n",
    "            values -= low\n",
    "            values /= high-low"
   ]
  },
  {
   "cell_type": "code",
   "execution_count": 3,
   "id": "4ee936a1",
   "metadata": {},
   "outputs": [],
   "source": [
    "def add_noise(data, SNR):\n",
    "    noise = np.random.normal(0, 1, data.shape)\n",
    "    segmask = data > 0.1*np.max(data)\n",
    "    target = np.sum(data[segmask])/SNR\n",
    "    noise *= target/np.sqrt(np.sum(noise[segmask]**2))\n",
    "    return data + noise"
   ]
  },
  {
   "cell_type": "code",
   "execution_count": 4,
   "id": "7335ecff",
   "metadata": {},
   "outputs": [],
   "source": [
    "par_ranges = \\\n",
    "{\n",
    "    'g1': [-0.1, 0.1],\n",
    "    'g2': [-0.1, 0.1],\n",
    "}\n",
    "\n",
    "img_noise_range = [-100, 150]\n",
    "spec_noise_range = [-250, 250]"
   ]
  },
  {
   "cell_type": "code",
   "execution_count": 5,
   "id": "4a615e27",
   "metadata": {},
   "outputs": [],
   "source": [
    "data_dir = '/xdisk/timeifler/wxs0703/kl_nn/train_data_low_g/'\n",
    "with fits.open(join(data_dir, f'temp_{1}/training_{0}.fits')) as hdu:\n",
    "\n",
    "    img = hdu[7].data\n",
    "    img_wnoise = add_noise(img, 15)\n",
    "\n",
    "    specs = np.full((3, 64), 0.)\n",
    "    for j in range(3):\n",
    "        spec = hdu[2*j+1].data\n",
    "        spec_wnoise = add_noise(spec, 15)\n",
    "        specs[j, :spec.shape[0]] = spec_wnoise"
   ]
  },
  {
   "cell_type": "code",
   "execution_count": 6,
   "id": "1e8b135f",
   "metadata": {},
   "outputs": [
    {
     "data": {
      "text/plain": [
       "<matplotlib.image.AxesImage at 0x7f13e2b5b5e0>"
      ]
     },
     "execution_count": 6,
     "metadata": {},
     "output_type": "execute_result"
    },
    {
     "data": {
      "image/png": "[encoded data removed]",
      "text/plain": [
       "<Figure size 640x480 with 1 Axes>"
      ]
     },
     "metadata": {},
     "output_type": "display_data"
    }
   ],
   "source": [
    "plt.imshow(img_wnoise)"
   ]
  },
  {
   "cell_type": "code",
   "execution_count": 7,
   "id": "2e38bd0c",
   "metadata": {
    "scrolled": true
   },
   "outputs": [
    {
     "data": {
      "text/plain": [
       "[<matplotlib.lines.Line2D at 0x7f13e29f6d60>]"
      ]
     },
     "execution_count": 7,
     "metadata": {},
     "output_type": "execute_result"
    },
    {
     "data": {
      "image/png": "[encoded data removed]",
      "text/plain": [
       "<Figure size 640x480 with 1 Axes>"
      ]
     },
     "metadata": {},
     "output_type": "display_data"
    }
   ],
   "source": [
    "plt.plot(specs[0])"
   ]
  },
  {
   "cell_type": "markdown",
   "id": "6fd710ea",
   "metadata": {},
   "source": [
    "### Create training database"
   ]
  },
  {
   "cell_type": "code",
   "execution_count": null,
   "id": "faca625d",
   "metadata": {},
   "outputs": [
    {
     "name": "stdout",
     "output_type": "stream",
     "text": [
      "folder 1 complete, 56.45 seconds\n",
      "folder 2 complete, 58.79 seconds\n",
      "folder 3 complete, 58.92 seconds\n",
      "folder 4 complete, 57.85 seconds\n",
      "folder 5 complete, 58.14 seconds\n",
      "folder 6 complete, 51.0 seconds\n",
      "folder 7 complete, 59.87 seconds\n",
      "folder 8 complete, 62.77 seconds\n",
      "folder 9 complete, 59.38 seconds\n",
      "folder 10 complete, 56.66 seconds\n",
      "folder 11 complete, 48.11 seconds\n",
      "folder 12 complete, 48.05 seconds\n",
      "folder 13 complete, 56.65 seconds\n",
      "folder 14 complete, 48.11 seconds\n",
      "folder 15 complete, 48.15 seconds\n",
      "folder 16 complete, 57.93 seconds\n",
      "folder 17 complete, 55.95 seconds\n",
      "folder 18 complete, 57.56 seconds\n",
      "folder 19 complete, 48.53 seconds\n",
      "folder 20 complete, 60.91 seconds\n",
      "folder 21 complete, 57.81 seconds\n",
      "folder 22 complete, 58.78 seconds\n",
      "folder 23 complete, 58.55 seconds\n",
      "folder 24 complete, 47.46 seconds\n",
      "folder 25 complete, 60.1 seconds\n",
      "folder 26 complete, 59.29 seconds\n",
      "folder 27 complete, 58.13 seconds\n",
      "folder 28 complete, 58.78 seconds\n",
      "folder 29 complete, 48.69 seconds\n",
      "folder 30 complete, 60.36 seconds\n",
      "folder 31 complete, 49.56 seconds\n",
      "folder 32 complete, 49.76 seconds\n",
      "folder 33 complete, 48.44 seconds\n",
      "folder 34 complete, 58.02 seconds\n",
      "folder 35 complete, 57.46 seconds\n",
      "folder 36 complete, 57.17 seconds\n",
      "folder 37 complete, 58.2 seconds\n",
      "folder 38 complete, 48.5 seconds\n",
      "folder 39 complete, 59.87 seconds\n",
      "folder 40 complete, 57.34 seconds\n",
      "folder 41 complete, 56.67 seconds\n",
      "folder 42 complete, 57.54 seconds\n",
      "folder 43 complete, 48.8 seconds\n",
      "folder 44 complete, 56.26 seconds\n",
      "folder 45 complete, 56.94 seconds\n",
      "folder 46 complete, 56.28 seconds\n",
      "folder 47 complete, 56.95 seconds\n",
      "folder 48 complete, 47.54 seconds\n",
      "folder 49 complete, 56.64 seconds\n",
      "folder 50 complete, 58.08 seconds\n",
      "folder 51 complete, 57.68 seconds\n",
      "folder 52 complete, 47.77 seconds\n",
      "folder 53 complete, 55.26 seconds\n",
      "folder 54 complete, 57.83 seconds\n",
      "folder 55 complete, 57.74 seconds\n",
      "folder 56 complete, 57.2 seconds\n",
      "folder 57 complete, 57.87 seconds\n",
      "folder 58 complete, 47.5 seconds\n",
      "folder 59 complete, 55.09 seconds\n",
      "folder 60 complete, 56.39 seconds\n",
      "folder 61 complete, 56.6 seconds\n",
      "folder 62 complete, 55.08 seconds\n",
      "folder 63 complete, 46.85 seconds\n",
      "folder 64 complete, 56.65 seconds\n",
      "folder 65 complete, 46.34 seconds\n",
      "folder 66 complete, 57.34 seconds\n",
      "folder 67 complete, 47.82 seconds\n",
      "folder 68 complete, 54.53 seconds\n",
      "folder 69 complete, 55.09 seconds\n",
      "folder 70 complete, 55.96 seconds\n",
      "folder 71 complete, 54.22 seconds\n",
      "folder 72 complete, 56.84 seconds\n",
      "folder 73 complete, 54.88 seconds\n",
      "folder 74 complete, 48.67 seconds\n",
      "folder 75 complete, 56.42 seconds\n",
      "folder 76 complete, 57.96 seconds\n",
      "folder 77 complete, 54.1 seconds\n",
      "folder 78 complete, 46.59 seconds\n",
      "folder 79 complete, 53.92 seconds\n",
      "folder 80 complete, 47.25 seconds\n",
      "folder 81 complete, 54.58 seconds\n",
      "folder 82 complete, 56.32 seconds\n",
      "folder 83 complete, 55.88 seconds\n",
      "folder 84 complete, 45.0 seconds\n",
      "folder 85 complete, 47.34 seconds\n",
      "folder 86 complete, 45.84 seconds\n",
      "folder 87 complete, 45.73 seconds\n",
      "folder 88 complete, 48.03 seconds\n",
      "folder 89 complete, 45.79 seconds\n",
      "folder 90 complete, 54.24 seconds\n",
      "folder 91 complete, 54.11 seconds\n",
      "folder 92 complete, 54.33 seconds\n",
      "folder 93 complete, 53.26 seconds\n",
      "folder 94 complete, 45.05 seconds\n",
      "folder 95 complete, 53.37 seconds\n",
      "folder 96 complete, 52.36 seconds\n",
      "folder 97 complete, 55.28 seconds\n",
      "folder 98 complete, 46.2 seconds\n",
      "folder 99 complete, 54.05 seconds\n",
      "folder 100 complete, 54.3 seconds\n",
      "folder 101 complete, 54.01 seconds\n",
      "folder 102 complete, 55.03 seconds\n",
      "folder 103 complete, 71.49 seconds\n",
      "folder 104 complete, 52.49 seconds\n",
      "folder 105 complete, 106.96 seconds\n",
      "folder 106 complete, 64.92 seconds\n",
      "folder 107 complete, 45.92 seconds\n",
      "folder 108 complete, 53.75 seconds\n",
      "folder 109 complete, 53.54 seconds\n",
      "folder 110 complete, 53.06 seconds\n",
      "folder 111 complete, 53.57 seconds\n",
      "folder 112 complete, 53.91 seconds\n",
      "folder 113 complete, 54.02 seconds\n",
      "folder 114 complete, 52.84 seconds\n",
      "folder 115 complete, 56.75 seconds\n",
      "folder 116 complete, 56.11 seconds\n",
      "folder 117 complete, 45.59 seconds\n",
      "folder 118 complete, 47.06 seconds\n",
      "folder 119 complete, 54.12 seconds\n",
      "folder 120 complete, 56.2 seconds\n",
      "folder 121 complete, 53.76 seconds\n",
      "folder 122 complete, 53.84 seconds\n",
      "folder 123 complete, 53.78 seconds\n",
      "folder 124 complete, 54.49 seconds\n",
      "folder 125 complete, 44.44 seconds\n",
      "folder 126 complete, 53.68 seconds\n",
      "folder 127 complete, 55.9 seconds\n",
      "folder 128 complete, 57.27 seconds\n",
      "folder 129 complete, 45.47 seconds\n",
      "folder 130 complete, 54.22 seconds\n",
      "folder 131 complete, 54.24 seconds\n",
      "folder 132 complete, 52.12 seconds\n",
      "folder 133 complete, 53.12 seconds\n",
      "folder 134 complete, 52.6 seconds\n",
      "folder 135 complete, 53.74 seconds\n",
      "folder 136 complete, 55.47 seconds\n",
      "folder 137 complete, 57.53 seconds\n",
      "folder 138 complete, 58.55 seconds\n",
      "folder 139 complete, 58.23 seconds\n",
      "folder 140 complete, 60.71 seconds\n",
      "folder 141 complete, 54.75 seconds\n",
      "folder 142 complete, 56.03 seconds\n"
     ]
    }
   ],
   "source": [
    "n = 4000\n",
    "nreal = 1\n",
    "SNR = [50]\n",
    "data_dir = '/xdisk/timeifler/wxs0703/kl_nn/train_data/'\n",
    "samp_dir = '/xdisk/timeifler/wxs0703/kl_nn/samples/samples_train_low_g_1m.csv'\n",
    "save_dir = '/xdisk/timeifler/wxs0703/kl_nn/train_data/train_database_SNR50'\n",
    "samples = pd.read_csv(samp_dir)\n",
    "normalize(samples)\n",
    "\n",
    "#minmax = np.full((50, 4), 0.)\n",
    "\n",
    "with px.Writer(dirpath=save_dir, map_size_limit=200000, ram_gb_limit=8) as db:\n",
    "    \n",
    "    for index in range(250):\n",
    "        start = time.time()\n",
    "        folder = index+1\n",
    "        img_stack = np.full((n*nreal, 1, 48, 48), 0.)\n",
    "        spec_stack = np.full((n*nreal, 1, 3, 64), 0.)\n",
    "        fids = np.full((n*nreal, 2), 0.)\n",
    "        start_id = index*n*nreal\n",
    "        file_id = index*n\n",
    "        ids = np.arange(start_id, start_id+n*nreal, dtype=np.uint64)\n",
    "\n",
    "        for i in range(n):\n",
    "            \n",
    "            ID = file_id + i\n",
    "\n",
    "            with fits.open(join(data_dir, f'temp_{folder}/training_{ID}.fits')) as hdu:\n",
    "\n",
    "                img = hdu[7].data\n",
    "                for j in range(nreal):\n",
    "                    img_wnoise = add_noise(img, SNR[j])\n",
    "                    #low, high = img_noise_range\n",
    "                    #img -= low\n",
    "                    #img /= high-low\n",
    "                    img_stack[i*nreal+j, 0] = img_wnoise\n",
    "                    \n",
    "                    specs = np.full((3, 64), 0.)\n",
    "                    for k in range(3):\n",
    "                        spec = hdu[2*k+1].data\n",
    "                        spec_wnoise = add_noise(spec, SNR[j])\n",
    "                        specs[k, :spec.shape[0]] = spec_wnoise\n",
    "                    #low, high = spec_noise_range\n",
    "                    #specs -= low\n",
    "                    #specs /= high-low\n",
    "                    spec_stack[i*nreal+j, 0] = specs\n",
    "\n",
    "                    fids[i*nreal+j] = np.array(samples.iloc[ID])[1:3]\n",
    "        \n",
    "        #minmax[index] = [np.max(img_stack), np.min(img_stack), np.max(spec_stack), np.min(spec_stack)]\n",
    "        #print(minmax[index])\n",
    "                \n",
    "        db.put_samples({'img': img_stack,\n",
    "                        'spec': spec_stack,\n",
    "                        'fid_pars': fids,\n",
    "                        'id': ids})\n",
    "        t = round(time.time() - start, 2)\n",
    "        \n",
    "        print(f'folder {folder} complete, {t} seconds')\n",
    "\n",
    "#np.save('minmax_train', minmax)"
   ]
  },
  {
   "cell_type": "markdown",
   "id": "6cbce88f",
   "metadata": {},
   "source": [
    "### Create testing database"
   ]
  },
  {
   "cell_type": "code",
   "execution_count": 14,
   "id": "2f3ba8bf",
   "metadata": {
    "scrolled": false
   },
   "outputs": [
    {
     "name": "stdout",
     "output_type": "stream",
     "text": [
      "folder 1 complete, 44.66 seconds\n",
      "folder 2 complete, 47.21 seconds\n",
      "folder 3 complete, 45.33 seconds\n",
      "folder 4 complete, 47.73 seconds\n",
      "folder 5 complete, 56.02 seconds\n",
      "folder 6 complete, 44.25 seconds\n",
      "folder 7 complete, 45.16 seconds\n",
      "folder 8 complete, 44.82 seconds\n",
      "folder 9 complete, 44.11 seconds\n",
      "folder 10 complete, 44.82 seconds\n",
      "folder 11 complete, 54.51 seconds\n",
      "folder 12 complete, 44.5 seconds\n",
      "folder 13 complete, 46.01 seconds\n",
      "folder 14 complete, 46.01 seconds\n",
      "folder 15 complete, 45.69 seconds\n",
      "folder 16 complete, 47.93 seconds\n",
      "folder 17 complete, 47.29 seconds\n",
      "folder 18 complete, 46.27 seconds\n",
      "folder 19 complete, 45.39 seconds\n",
      "folder 20 complete, 45.87 seconds\n",
      "folder 21 complete, 46.79 seconds\n",
      "folder 22 complete, 46.19 seconds\n",
      "folder 23 complete, 45.06 seconds\n",
      "folder 24 complete, 45.27 seconds\n",
      "folder 25 complete, 45.19 seconds\n"
     ]
    }
   ],
   "source": [
    "n = 4000\n",
    "nreal = 1\n",
    "SNR = [50]\n",
    "data_dir = '/xdisk/timeifler/wxs0703/kl_nn/test_data/'\n",
    "samp_dir = '/xdisk/timeifler/wxs0703/kl_nn/samples/samples_test_low_g_1m.csv'\n",
    "save_dir = '/xdisk/timeifler/wxs0703/kl_nn/test_data/test_database_SNR50'\n",
    "samples = pd.read_csv(samp_dir)\n",
    "normalize(samples)\n",
    "\n",
    "#minmax = np.full((50, 4), 0.)\n",
    "\n",
    "with px.Writer(dirpath=save_dir, map_size_limit=200000, ram_gb_limit=8) as db:\n",
    "    \n",
    "    for index in range(25):\n",
    "        start = time.time()\n",
    "        folder = index+1\n",
    "        img_stack = np.full((n*nreal, 1, 48, 48), 0.)\n",
    "        spec_stack = np.full((n*nreal, 1, 3, 64), 0.)\n",
    "        fids = np.full((n*nreal, 2), 0.)\n",
    "        start_id = index*n*nreal\n",
    "        file_id = index*n\n",
    "        ids = np.arange(start_id, start_id+n*nreal, dtype=np.uint64)\n",
    "\n",
    "        for i in range(n):\n",
    "            \n",
    "            ID = file_id + i\n",
    "\n",
    "            with fits.open(join(data_dir, f'temp_{folder}/testing_{ID}.fits')) as hdu:\n",
    "\n",
    "                img = hdu[7].data\n",
    "                for j in range(nreal):\n",
    "                    img_wnoise = add_noise(img, SNR[j])\n",
    "                    #low, high = img_noise_range\n",
    "                    #img -= low\n",
    "                    #img /= high-low\n",
    "                    img_stack[i*nreal+j, 0] = img_wnoise\n",
    "                    \n",
    "                    specs = np.full((3, 64), 0.)\n",
    "                    for k in range(3):\n",
    "                        spec = hdu[2*k+1].data\n",
    "                        spec_wnoise = add_noise(spec, SNR[j])\n",
    "                        specs[k, :spec.shape[0]] = spec_wnoise\n",
    "                    #low, high = spec_noise_range\n",
    "                    #specs -= low\n",
    "                    #specs /= high-low\n",
    "                    spec_stack[i*nreal+j, 0] = specs\n",
    "\n",
    "                    fids[i*nreal+j] = np.array(samples.iloc[ID])[1:3]\n",
    "        \n",
    "        #minmax[index] = [np.max(img_stack), np.min(img_stack), np.max(spec_stack), np.min(spec_stack)]\n",
    "        #print(minmax[index])\n",
    "                \n",
    "        db.put_samples({'img': img_stack,\n",
    "                        'spec': spec_stack,\n",
    "                        'fid_pars': fids,\n",
    "                        'id': ids})\n",
    "        t = round(time.time() - start, 2)\n",
    "        \n",
    "        print(f'folder {folder} complete, {t} seconds')\n",
    "\n",
    "#np.save('minmax_train', minmax)"
   ]
  },
  {
   "cell_type": "markdown",
   "id": "ee60a1a3",
   "metadata": {},
   "source": [
    "#### Testing code to ensure database is generated properly"
   ]
  },
  {
   "cell_type": "code",
   "execution_count": 8,
   "id": "dcfa3eb4-eb1e-4ef4-9782-818a08861c74",
   "metadata": {},
   "outputs": [],
   "source": [
    "save_dir = '/xdisk/timeifler/wxs0703/kl_nn/train_data/train_database_SNR50'"
   ]
  },
  {
   "cell_type": "code",
   "execution_count": 5,
   "id": "e10264b6-eb6b-4f9e-a110-e892b9a3b23f",
   "metadata": {},
   "outputs": [],
   "source": [
    "save_dir = '/xdisk/timeifler/wxs0703/kl_nn/test_data_low_g/test_database_5noise'"
   ]
  },
  {
   "cell_type": "code",
   "execution_count": 9,
   "id": "1bca44c5",
   "metadata": {},
   "outputs": [
    {
     "name": "stdout",
     "output_type": "stream",
     "text": [
      "pyxis.Reader\n",
      "Location:\t\t'/xdisk/timeifler/wxs0703/kl_nn/train_data/train_database_SNR50'\n",
      "Number of samples:\t1000000\n",
      "Data keys (0th sample):\n",
      "\t'img' <- dtype: float64, shape: (1, 48, 48)\n",
      "\t'spec' <- dtype: float64, shape: (1, 3, 64)\n",
      "\t'fid_pars' <- dtype: float64, shape: (2,)\n",
      "\t'id' <- dtype: uint64, shape: ()\n"
     ]
    }
   ],
   "source": [
    "with px.Reader(save_dir) as db:\n",
    "    print(db)"
   ]
  },
  {
   "cell_type": "code",
   "execution_count": 10,
   "id": "8f33262b",
   "metadata": {},
   "outputs": [],
   "source": [
    "with px.Reader(save_dir) as db:\n",
    "    img = db[5]['img'][0]\n",
    "    spec = db[5]['spec'][0]\n",
    "    fid = db[5]['fid_pars']"
   ]
  },
  {
   "cell_type": "code",
   "execution_count": 11,
   "id": "7570fb43",
   "metadata": {},
   "outputs": [
    {
     "data": {
      "text/plain": [
       "array([0.77639923, 0.15459504])"
      ]
     },
     "execution_count": 11,
     "metadata": {},
     "output_type": "execute_result"
    }
   ],
   "source": [
    "fid"
   ]
  },
  {
   "cell_type": "code",
   "execution_count": 12,
   "id": "2ece8800",
   "metadata": {},
   "outputs": [
    {
     "data": {
      "text/plain": [
       "<matplotlib.image.AxesImage at 0x7f13e29b8730>"
      ]
     },
     "execution_count": 12,
     "metadata": {},
     "output_type": "execute_result"
    },
    {
     "data": {
      "image/png": "[encoded data removed]",
      "text/plain": [
       "<Figure size 640x480 with 1 Axes>"
      ]
     },
     "metadata": {},
     "output_type": "display_data"
    }
   ],
   "source": [
    "plt.imshow(img)"
   ]
  },
  {
   "cell_type": "code",
   "execution_count": 13,
   "id": "6d260a7d",
   "metadata": {},
   "outputs": [
    {
     "data": {
      "text/plain": [
       "[<matplotlib.lines.Line2D at 0x7f13e28e5490>]"
      ]
     },
     "execution_count": 13,
     "metadata": {},
     "output_type": "execute_result"
    },
    {
     "data": {
      "image/png": "[encoded data removed]",
      "text/plain": [
       "<Figure size 640x480 with 1 Axes>"
      ]
     },
     "metadata": {},
     "output_type": "display_data"
    }
   ],
   "source": [
    "plt.plot(spec[1])"
   ]
  }
 ],
 "metadata": {
  "kernelspec": {
   "display_name": "kl-nn",
   "language": "python",
   "name": "kl-nn"
  },
  "language_info": {
   "codemirror_mode": {
    "name": "ipython",
    "version": 3
   },
   "file_extension": ".py",
   "mimetype": "text/x-python",
   "name": "python",
   "nbconvert_exporter": "python",
   "pygments_lexer": "ipython3",
   "version": "3.9.21"
  }
 },
 "nbformat": 4,
 "nbformat_minor": 5
}
