{
 "cells": [
  {
   "cell_type": "code",
   "execution_count": 4,
   "id": "dd4ffd19",
   "metadata": {},
   "outputs": [],
   "source": [
    "from __future__ import print_function\n",
    "from os.path import join\n",
    "import time\n",
    "\n",
    "import numpy as np\n",
    "import pandas as pd\n",
    "import pyxis as px\n",
    "from astropy.io import fits\n",
    "import matplotlib.pyplot as plt\n",
    "import torch"
   ]
  },
  {
   "cell_type": "code",
   "execution_count": 2,
   "id": "926872c8",
   "metadata": {},
   "outputs": [],
   "source": [
    "def normalize(form, data, pars=None):\n",
    "    '''\n",
    "    Normalizes data into one of three forms:\n",
    "    '01': normalize between 0 and 1, pars = (min, max)\n",
    "    '-11': normalize between -1 and 1, pars = (min, max)\n",
    "    'std': standardize to center around 0 with std dev of 1, pars = (mean, std)\n",
    "    '''\n",
    "    if form == 'std': \n",
    "        mean, std = pars if pars is not None else (data.mean(), data.std())\n",
    "        new_data = (data-mean)/std\n",
    "        \n",
    "        return new_data\n",
    "    \n",
    "    else:\n",
    "        min_val, max_val = pars if pars is not None else (np.min(data), np.max(data))\n",
    "        \n",
    "        if form == '01':\n",
    "            new_data = (data - min_val)/(max_val-min_val)\n",
    "            \n",
    "            return new_data\n",
    "        \n",
    "        elif form == '-11':\n",
    "            new_data = (2*data - (max_val+min_val))/(max_val-min_val)\n",
    "            \n",
    "            return new_data\n",
    "        \n",
    "        else:\n",
    "            raise ValueError(\"Invalid form, must be '01', '-11', or 'std'.\")"
   ]
  },
  {
   "cell_type": "code",
   "execution_count": 3,
   "id": "7335ecff",
   "metadata": {},
   "outputs": [],
   "source": [
    "par_ranges = \\\n",
    "{\n",
    "    'g1': [-0.1, 0.1],\n",
    "    'g2': [-0.1, 0.1],\n",
    "    'theta_int': [-np.pi, np.pi],\n",
    "    'sini': [0, 1],\n",
    "    'v0': [-30, 30],\n",
    "    'vcirc': [60, 540],\n",
    "    'rscale': [0.1, 10],\n",
    "    'hlr': [0.1, 5],\n",
    "}"
   ]
  },
  {
   "cell_type": "markdown",
   "id": "cc562714",
   "metadata": {},
   "source": [
    "### Create database"
   ]
  },
  {
   "cell_type": "code",
   "execution_count": null,
   "id": "faca625d",
   "metadata": {
    "scrolled": true
   },
   "outputs": [
    {
     "name": "stdout",
     "output_type": "stream",
     "text": [
      "folder 1 complete, 99.38 seconds\n",
      "folder 2 complete, 100.97 seconds\n",
      "folder 3 complete, 98.25 seconds\n",
      "folder 4 complete, 101.96 seconds\n",
      "folder 5 complete, 99.52 seconds\n",
      "folder 6 complete, 104.38 seconds\n",
      "folder 7 complete, 101.47 seconds\n",
      "folder 8 complete, 105.19 seconds\n",
      "folder 9 complete, 100.44 seconds\n",
      "folder 10 complete, 101.33 seconds\n",
      "folder 11 complete, 99.58 seconds\n",
      "folder 12 complete, 98.35 seconds\n",
      "folder 13 complete, 101.5 seconds\n",
      "folder 14 complete, 100.0 seconds\n",
      "folder 15 complete, 98.87 seconds\n",
      "folder 16 complete, 99.32 seconds\n",
      "folder 17 complete, 99.74 seconds\n",
      "folder 18 complete, 101.36 seconds\n",
      "folder 19 complete, 102.37 seconds\n",
      "folder 20 complete, 105.15 seconds\n",
      "folder 21 complete, 101.91 seconds\n",
      "folder 22 complete, 100.72 seconds\n",
      "folder 23 complete, 100.86 seconds\n",
      "folder 24 complete, 100.36 seconds\n",
      "folder 25 complete, 99.65 seconds\n",
      "folder 26 complete, 101.43 seconds\n",
      "folder 27 complete, 101.01 seconds\n",
      "folder 28 complete, 102.12 seconds\n",
      "folder 29 complete, 101.8 seconds\n",
      "folder 30 complete, 98.76 seconds\n",
      "folder 31 complete, 99.46 seconds\n",
      "folder 32 complete, 97.28 seconds\n",
      "folder 33 complete, 96.66 seconds\n",
      "folder 34 complete, 99.36 seconds\n",
      "folder 35 complete, 100.87 seconds\n",
      "folder 36 complete, 101.39 seconds\n",
      "folder 37 complete, 99.81 seconds\n",
      "folder 38 complete, 103.72 seconds\n",
      "folder 39 complete, 101.42 seconds\n",
      "folder 40 complete, 99.7 seconds\n",
      "folder 41 complete, 104.61 seconds\n",
      "folder 42 complete, 103.53 seconds\n",
      "folder 43 complete, 105.4 seconds\n",
      "folder 44 complete, 103.0 seconds\n",
      "folder 45 complete, 102.33 seconds\n",
      "folder 46 complete, 104.97 seconds\n",
      "folder 47 complete, 108.83 seconds\n",
      "folder 48 complete, 104.49 seconds\n",
      "folder 49 complete, 99.76 seconds\n",
      "folder 50 complete, 106.6 seconds\n",
      "folder 51 complete, 102.53 seconds\n",
      "folder 52 complete, 102.46 seconds\n",
      "folder 53 complete, 103.87 seconds\n",
      "folder 54 complete, 100.55 seconds\n",
      "folder 55 complete, 100.54 seconds\n",
      "folder 56 complete, 98.65 seconds\n",
      "folder 57 complete, 98.69 seconds\n",
      "folder 58 complete, 100.51 seconds\n",
      "folder 59 complete, 99.9 seconds\n",
      "folder 60 complete, 97.56 seconds\n",
      "folder 61 complete, 97.62 seconds\n",
      "folder 62 complete, 103.42 seconds\n",
      "folder 63 complete, 107.4 seconds\n",
      "folder 64 complete, 153.8 seconds\n",
      "folder 65 complete, 104.39 seconds\n",
      "folder 66 complete, 105.04 seconds\n",
      "folder 67 complete, 102.57 seconds\n",
      "folder 68 complete, 102.17 seconds\n",
      "folder 69 complete, 99.45 seconds\n",
      "folder 70 complete, 101.71 seconds\n",
      "folder 71 complete, 99.09 seconds\n",
      "folder 72 complete, 97.45 seconds\n",
      "folder 73 complete, 96.46 seconds\n",
      "folder 74 complete, 98.03 seconds\n",
      "folder 75 complete, 97.07 seconds\n",
      "folder 76 complete, 101.69 seconds\n",
      "folder 77 complete, 99.1 seconds\n",
      "folder 78 complete, 100.06 seconds\n",
      "folder 79 complete, 99.95 seconds\n",
      "folder 80 complete, 98.22 seconds\n",
      "folder 81 complete, 99.79 seconds\n",
      "folder 82 complete, 103.44 seconds\n",
      "folder 83 complete, 100.16 seconds\n",
      "folder 84 complete, 99.58 seconds\n",
      "folder 85 complete, 101.7 seconds\n",
      "folder 86 complete, 102.46 seconds\n",
      "folder 87 complete, 97.99 seconds\n",
      "folder 88 complete, 100.73 seconds\n",
      "folder 89 complete, 102.52 seconds\n",
      "folder 90 complete, 103.18 seconds\n",
      "folder 91 complete, 104.03 seconds\n",
      "folder 92 complete, 102.46 seconds\n",
      "folder 93 complete, 102.74 seconds\n",
      "folder 94 complete, 101.77 seconds\n",
      "folder 95 complete, 105.04 seconds\n",
      "folder 96 complete, 102.93 seconds\n",
      "folder 97 complete, 102.33 seconds\n",
      "folder 98 complete, 105.68 seconds\n",
      "folder 99 complete, 105.48 seconds\n",
      "folder 100 complete, 102.51 seconds\n",
      "folder 101 complete, 105.97 seconds\n",
      "folder 102 complete, 101.51 seconds\n",
      "folder 103 complete, 105.38 seconds\n",
      "folder 104 complete, 103.96 seconds\n",
      "folder 105 complete, 102.39 seconds\n",
      "folder 106 complete, 107.66 seconds\n",
      "folder 107 complete, 103.31 seconds\n",
      "folder 108 complete, 105.84 seconds\n",
      "folder 109 complete, 102.88 seconds\n",
      "folder 110 complete, 104.06 seconds\n",
      "folder 111 complete, 101.85 seconds\n",
      "folder 112 complete, 101.33 seconds\n",
      "folder 113 complete, 103.95 seconds\n",
      "folder 114 complete, 104.84 seconds\n",
      "folder 115 complete, 106.9 seconds\n",
      "folder 116 complete, 101.81 seconds\n",
      "folder 117 complete, 103.77 seconds\n",
      "folder 118 complete, 104.47 seconds\n",
      "folder 119 complete, 103.29 seconds\n",
      "folder 120 complete, 102.84 seconds\n",
      "folder 121 complete, 102.27 seconds\n",
      "folder 122 complete, 100.06 seconds\n",
      "folder 123 complete, 101.2 seconds\n",
      "folder 124 complete, 101.29 seconds\n",
      "folder 125 complete, 102.64 seconds\n",
      "folder 126 complete, 100.8 seconds\n",
      "folder 127 complete, 103.21 seconds\n",
      "folder 128 complete, 102.57 seconds\n",
      "folder 129 complete, 106.06 seconds\n",
      "folder 130 complete, 101.95 seconds\n",
      "folder 131 complete, 105.06 seconds\n",
      "folder 132 complete, 105.96 seconds\n",
      "folder 133 complete, 103.42 seconds\n",
      "folder 134 complete, 101.65 seconds\n",
      "folder 135 complete, 101.7 seconds\n",
      "folder 136 complete, 102.86 seconds\n",
      "folder 137 complete, 100.73 seconds\n",
      "folder 138 complete, 102.96 seconds\n",
      "folder 139 complete, 99.87 seconds\n",
      "folder 140 complete, 103.64 seconds\n",
      "folder 141 complete, 103.08 seconds\n",
      "folder 142 complete, 101.31 seconds\n",
      "folder 143 complete, 103.46 seconds\n",
      "folder 144 complete, 104.56 seconds\n",
      "folder 145 complete, 107.58 seconds\n",
      "folder 146 complete, 107.46 seconds\n",
      "folder 147 complete, 107.73 seconds\n",
      "folder 148 complete, 104.88 seconds\n",
      "folder 149 complete, 105.72 seconds\n",
      "folder 150 complete, 105.88 seconds\n",
      "folder 151 complete, 104.61 seconds\n",
      "folder 152 complete, 105.05 seconds\n",
      "folder 153 complete, 109.26 seconds\n",
      "folder 154 complete, 111.67 seconds\n",
      "folder 155 complete, 109.86 seconds\n",
      "folder 156 complete, 112.82 seconds\n",
      "folder 157 complete, 106.42 seconds\n",
      "folder 158 complete, 108.88 seconds\n",
      "folder 159 complete, 105.35 seconds\n",
      "folder 160 complete, 109.68 seconds\n",
      "folder 161 complete, 110.19 seconds\n",
      "folder 162 complete, 107.03 seconds\n",
      "folder 163 complete, 109.31 seconds\n",
      "folder 164 complete, 109.61 seconds\n",
      "folder 165 complete, 106.83 seconds\n",
      "folder 166 complete, 109.16 seconds\n",
      "folder 167 complete, 108.84 seconds\n",
      "folder 168 complete, 108.55 seconds\n",
      "folder 169 complete, 109.35 seconds\n",
      "folder 171 complete, 105.37 seconds\n",
      "folder 172 complete, 108.15 seconds\n",
      "folder 173 complete, 107.72 seconds\n",
      "folder 174 complete, 107.15 seconds\n",
      "folder 175 complete, 105.28 seconds\n",
      "folder 176 complete, 108.08 seconds\n",
      "folder 177 complete, 107.12 seconds\n",
      "folder 178 complete, 105.62 seconds\n",
      "folder 179 complete, 109.64 seconds\n",
      "folder 180 complete, 109.38 seconds\n",
      "folder 181 complete, 106.59 seconds\n",
      "folder 182 complete, 107.89 seconds\n",
      "folder 183 complete, 111.09 seconds\n",
      "folder 184 complete, 110.91 seconds\n",
      "folder 185 complete, 108.48 seconds\n",
      "folder 186 complete, 109.4 seconds\n",
      "folder 187 complete, 107.97 seconds\n",
      "folder 188 complete, 110.04 seconds\n",
      "folder 189 complete, 112.88 seconds\n",
      "folder 190 complete, 113.36 seconds\n",
      "folder 191 complete, 112.6 seconds\n",
      "folder 192 complete, 113.29 seconds\n",
      "folder 193 complete, 115.01 seconds\n",
      "folder 194 complete, 116.59 seconds\n",
      "folder 195 complete, 113.84 seconds\n",
      "folder 196 complete, 112.99 seconds\n",
      "folder 197 complete, 110.05 seconds\n",
      "folder 198 complete, 114.07 seconds\n",
      "folder 199 complete, 114.44 seconds\n",
      "folder 200 complete, 113.93 seconds\n",
      "folder 201 complete, 112.03 seconds\n",
      "folder 202 complete, 115.21 seconds\n",
      "folder 203 complete, 112.12 seconds\n",
      "folder 204 complete, 109.89 seconds\n",
      "folder 205 complete, 108.81 seconds\n",
      "folder 206 complete, 106.63 seconds\n",
      "folder 207 complete, 109.12 seconds\n",
      "folder 208 complete, 107.61 seconds\n",
      "folder 209 complete, 106.31 seconds\n",
      "folder 210 complete, 108.37 seconds\n",
      "folder 211 complete, 106.99 seconds\n",
      "folder 212 complete, 108.09 seconds\n",
      "folder 213 complete, 107.09 seconds\n",
      "folder 214 complete, 108.98 seconds\n",
      "folder 215 complete, 108.31 seconds\n"
     ]
    }
   ],
   "source": [
    "n = 4000 # number of samples per database entry\n",
    "N = 25 # number of database entries (number of \"parts\" in the fits folder)\n",
    "dataset_name = 'train_1m'\n",
    "data_dir = f'/ocean/projects/phy250048p/shared/fits/{dataset_name}/'\n",
    "samp_dir = f'/ocean/projects/phy250048p/shared/samples/samples_{dataset_name}.csv'\n",
    "save_dir = f'/ocean/projects/phy250048p/shared/datasets/{dataset_name}'\n",
    "samples = pd.read_csv(samp_dir)\n",
    "for i, values in enumerate(par_ranges.values()):\n",
    "    samples.iloc[:, i+1] = normalize('-11', samples.iloc[:, i+1], values)\n",
    "samples.to_csv(f'/ocean/projects/phy250048p/shared/samples/normalized/samples_{dataset_name}_normalized.csv', index=False)\n",
    "    \n",
    "with px.Writer(dirpath=save_dir, map_size_limit=200000, ram_gb_limit=2) as db:\n",
    "    \n",
    "    for index in range(N):\n",
    "        start = time.time()\n",
    "        folder = index+1\n",
    "        img_stack = np.full((n, 1, 48, 48), 0.)\n",
    "        spec_stack = np.full((n, 1, 3, 64), 0.)\n",
    "        start_id = index*n\n",
    "        file_id = index*n\n",
    "        ids = np.arange(start_id, start_id+n, dtype=np.uint64)\n",
    "        fids = np.array(samples.iloc[ids])[:, 1:3]\n",
    "\n",
    "        for i in range(n):\n",
    "            \n",
    "            ID = file_id + i\n",
    "\n",
    "            with fits.open(join(data_dir, f'part_{folder}/gal_{ID}.fits')) as hdu:\n",
    "                img_stack[i, 0] = hdu[4].data\n",
    "                \n",
    "                specs = np.full((3, 64), 0.)\n",
    "                for k in range(3):\n",
    "                    spec = hdu[k+1].data\n",
    "                    specs[k, :spec.shape[0]] = spec\n",
    "                spec_stack[i, 0] = specs\n",
    "        \n",
    "        # img_stack = normalize('std', img_stack, (img_mean, img_std))\n",
    "        # spec_stack = normalize('std', spec_stack, (spec_mean, spec_std))\n",
    "        \n",
    "        db.put_samples({'img': img_stack,\n",
    "                        'spec': spec_stack,\n",
    "                        'fid_pars': fids,\n",
    "                        'id': ids})\n",
    "        t = round(time.time() - start, 2)\n",
    "        \n",
    "        print(f'folder {folder} complete, {t} seconds')"
   ]
  },
  {
   "cell_type": "markdown",
   "id": "6a0932ee",
   "metadata": {},
   "source": [
    "#### Code to test if database is generated properly"
   ]
  },
  {
   "cell_type": "code",
   "execution_count": 1,
   "id": "dcfa3eb4-eb1e-4ef4-9782-818a08861c74",
   "metadata": {},
   "outputs": [],
   "source": [
    "save_dir = '/ocean/projects/phy250048p/shared/datasets/train_1m'"
   ]
  },
  {
   "cell_type": "code",
   "execution_count": 5,
   "id": "452687e0",
   "metadata": {},
   "outputs": [],
   "source": [
    "img_stack = torch.empty((200, 1, 48, 48))\n",
    "snr = torch.rand((200))*95 + 5"
   ]
  },
  {
   "cell_type": "code",
   "execution_count": 6,
   "id": "8f33262b",
   "metadata": {},
   "outputs": [
    {
     "name": "stdout",
     "output_type": "stream",
     "text": [
      "pyxis.Reader\n",
      "Location:\t\t'/ocean/projects/phy250048p/shared/datasets/train_1m'\n",
      "Number of samples:\t1000000\n",
      "Data keys (0th sample):\n",
      "\t'img' <- dtype: float64, shape: (1, 48, 48)\n",
      "\t'spec' <- dtype: float64, shape: (1, 3, 64)\n",
      "\t'fid_pars' <- dtype: float64, shape: (2,)\n",
      "\t'id' <- dtype: uint64, shape: ()\n",
      "[-0.135197  0.631491]\n"
     ]
    }
   ],
   "source": [
    "with px.Reader(save_dir) as db:\n",
    "    print(db)\n",
    "    print(db[0]['fid_pars'])\n",
    "    for i in range(200):\n",
    "        img_stack[i] = torch.from_numpy(db[i]['img'])"
   ]
  },
  {
   "cell_type": "code",
   "execution_count": 46,
   "id": "efc33a67",
   "metadata": {},
   "outputs": [],
   "source": [
    "noise = torch.randn((200,1, 48,48))"
   ]
  },
  {
   "cell_type": "code",
   "execution_count": 89,
   "id": "dd2d91aa",
   "metadata": {},
   "outputs": [
    {
     "name": "stdout",
     "output_type": "stream",
     "text": [
      "tensor(23.9029)\n"
     ]
    }
   ],
   "source": [
    "print(torch.sum((noise[0,0]*0.5)**2)**0.5)"
   ]
  },
  {
   "cell_type": "code",
   "execution_count": 162,
   "id": "da54619e",
   "metadata": {},
   "outputs": [],
   "source": [
    "maxs = torch.amax(img_stack, dim=(-1, -2, -3))\n",
    "seg = img_stack > 0.1*maxs.view(-1, 1, 1, 1)\n",
    "npix = torch.sum(seg, dim=(-1, -2, -3))\n",
    "avg = torch.sum(img_stack, dim=(-1, -2, -3))/npix"
   ]
  },
  {
   "cell_type": "code",
   "execution_count": 142,
   "id": "17d25f15",
   "metadata": {},
   "outputs": [
    {
     "name": "stdout",
     "output_type": "stream",
     "text": [
      "tensor(76.5059)\n"
     ]
    }
   ],
   "source": [
    "print(maxs[1])"
   ]
  },
  {
   "cell_type": "code",
   "execution_count": 143,
   "id": "6844608c",
   "metadata": {},
   "outputs": [],
   "source": [
    "factor = avg/snr\n",
    "data = img_stack + noise*torch.sqrt(factor.view(-1, 1, 1, 1))\n",
    "mean = data.mean()\n",
    "std = data.std()"
   ]
  },
  {
   "cell_type": "code",
   "execution_count": 153,
   "id": "ce3d3939",
   "metadata": {},
   "outputs": [],
   "source": [
    "whr = torch.where(snr > 90)"
   ]
  },
  {
   "cell_type": "code",
   "execution_count": 158,
   "id": "4589e7ff",
   "metadata": {},
   "outputs": [],
   "source": [
    "i = whr[0][1]"
   ]
  },
  {
   "cell_type": "code",
   "execution_count": 159,
   "id": "4c56b899",
   "metadata": {},
   "outputs": [
    {
     "name": "stdout",
     "output_type": "stream",
     "text": [
      "tensor(97.5421) tensor(59.8838) tensor(0.6139)\n"
     ]
    }
   ],
   "source": [
    "print(snr[i], avg[i], factor[i])"
   ]
  },
  {
   "cell_type": "code",
   "execution_count": 7,
   "id": "2ece8800",
   "metadata": {
    "scrolled": true
   },
   "outputs": [
    {
     "ename": "NameError",
     "evalue": "name 'data' is not defined",
     "output_type": "error",
     "traceback": [
      "\u001b[0;31m---------------------------------------------------------------------------\u001b[0m",
      "\u001b[0;31mNameError\u001b[0m                                 Traceback (most recent call last)",
      "Cell \u001b[0;32mIn[7], line 1\u001b[0m\n\u001b[0;32m----> 1\u001b[0m plt\u001b[38;5;241m.\u001b[39mimshow(\u001b[43mdata\u001b[49m[i, \u001b[38;5;241m0\u001b[39m])\n",
      "\u001b[0;31mNameError\u001b[0m: name 'data' is not defined"
     ]
    }
   ],
   "source": [
    "plt.imshow(data[i, 0])"
   ]
  },
  {
   "cell_type": "code",
   "execution_count": 150,
   "id": "66928514",
   "metadata": {},
   "outputs": [],
   "source": [
    "img_seg = torch.clone(img_stack)\n",
    "img_seg[~seg] = 0"
   ]
  },
  {
   "cell_type": "code",
   "execution_count": 161,
   "id": "31b7e4f7",
   "metadata": {},
   "outputs": [
    {
     "data": {
      "text/plain": [
       "<matplotlib.image.AxesImage at 0x707eb8449e50>"
      ]
     },
     "execution_count": 161,
     "metadata": {},
     "output_type": "execute_result"
    },
    {
     "data": {
      "image/png": "[encoded data removed]",
      "text/plain": [
       "<Figure size 640x480 with 1 Axes>"
      ]
     },
     "metadata": {},
     "output_type": "display_data"
    }
   ],
   "source": [
    "plt.imshow(img_seg[i, 0])"
   ]
  },
  {
   "cell_type": "code",
   "execution_count": 40,
   "id": "6d260a7d",
   "metadata": {},
   "outputs": [
    {
     "data": {
      "text/plain": [
       "[<matplotlib.lines.Line2D at 0x7f3291d05c40>]"
      ]
     },
     "execution_count": 40,
     "metadata": {},
     "output_type": "execute_result"
    },
    {
     "data": {
      "image/png": "[encoded data removed]",
      "text/plain": [
       "<Figure size 640x480 with 1 Axes>"
      ]
     },
     "metadata": {},
     "output_type": "display_data"
    }
   ],
   "source": [
    "plt.plot(spec[0])"
   ]
  }
 ],
 "metadata": {
  "kernelspec": {
   "display_name": "kl-nn",
   "language": "python",
   "name": "kl-nn"
  },
  "language_info": {
   "codemirror_mode": {
    "name": "ipython",
    "version": 3
   },
   "file_extension": ".py",
   "mimetype": "text/x-python",
   "name": "python",
   "nbconvert_exporter": "python",
   "pygments_lexer": "ipython3",
   "version": "3.10.18"
  }
 },
 "nbformat": 4,
 "nbformat_minor": 5
}
