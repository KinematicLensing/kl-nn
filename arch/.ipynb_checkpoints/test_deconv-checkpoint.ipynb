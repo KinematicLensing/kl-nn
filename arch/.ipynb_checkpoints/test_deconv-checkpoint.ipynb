{
 "cells": [
  {
   "cell_type": "code",
   "execution_count": 1,
   "id": "5e452712",
   "metadata": {},
   "outputs": [],
   "source": [
    "import os\n",
    "from os.path import join\n",
    "import numpy as np\n",
    "import pandas as pd\n",
    "import matplotlib.pyplot as plt\n",
    "import torch\n",
    "import torch.multiprocessing as mp\n",
    "from torch.distributed import init_process_group, destroy_process_group\n",
    "from torch.utils.data.distributed import DistributedSampler\n",
    "from torch.utils.data import DataLoader\n",
    "from astropy.io import fits\n",
    "import pyxis.torch as pxt\n",
    "import scipy.optimize as so\n",
    "\n",
    "from networks import *\n",
    "from train import *\n",
    "import config\n",
    "\n",
    "data_dir = '/xdisk/timeifler/wxs0703/kl_nn/test_data/test_database'\n",
    "samp_dir = '/xdisk/timeifler/wxs0703/kl_nn/samples/samples_massive.csv'\n",
    "fig_dir = '/xdisk/timeifler/wxs0703/kl_nn/figures/'\n",
    "model_dir = '/xdisk/timeifler/wxs0703/kl_nn/model/'\n",
    "results_dir = '/xdisk/timeifler/wxs0703/kl_nn/results/'"
   ]
  },
  {
   "cell_type": "code",
   "execution_count": 2,
   "id": "7ecc2815-b0b9-42ab-96f7-940e20baf859",
   "metadata": {},
   "outputs": [],
   "source": [
    "os.environ[\"MASTER_ADDR\"] = \"localhost\"\n",
    "os.environ[\"MASTER_PORT\"] = \"12356\"\n",
    "torch.cuda.set_device(0)\n",
    "init_process_group(backend='nccl', rank=0, world_size=1)"
   ]
  },
  {
   "cell_type": "code",
   "execution_count": 3,
   "id": "c198d981-2b6d-42e3-879e-afa73f4d1bb7",
   "metadata": {},
   "outputs": [
    {
     "name": "stderr",
     "output_type": "stream",
     "text": [
      "/home/u2/wxs0703/Eifler/kl-nn/cnn/modules/train.py:308: FutureWarning: You are using `torch.load` with `weights_only=False` (the current default value), which uses the default pickle module implicitly. It is possible to construct malicious pickle data which will execute arbitrary code during unpickling (See https://github.com/pytorch/pytorch/blob/main/SECURITY.md#untrusted-models for more details). In a future release, the default value for `weights_only` will be flipped to `True`. This limits the functions that could be executed during unpickling. Arbitrary objects will no longer be allowed to be loaded via this mode unless they are explicitly allowlisted by the user via `torch.serialization.add_safe_globals`. We recommend you start setting `weights_only=True` for any use case where you don't have full control of the loaded file. Please open an issue on GitHub for any issues related to this experimental feature.\n",
      "  model.load_state_dict(torch.load(path), strict=strict, assign=assign)\n"
     ]
    }
   ],
   "source": [
    "model_file = join(model_dir, 'Deconv21')\n",
    "model = load_model(DeconvNN, path=model_file,strict=True, assign=True)"
   ]
  },
  {
   "cell_type": "code",
   "execution_count": 4,
   "id": "3ad90bc2-8888-4f7a-b722-516114ffbbca",
   "metadata": {},
   "outputs": [],
   "source": [
    "# Get data loader\n",
    "test_args = list(config.test.values())\n",
    "test_ds = pxt.TorchDataset(data_dir)\n",
    "test_dl = DataLoader(test_ds,\n",
    "                     batch_size=100,\n",
    "                     pin_memory=True,\n",
    "                     shuffle=False,\n",
    "                     sampler=DistributedSampler(test_ds))"
   ]
  },
  {
   "cell_type": "code",
   "execution_count": null,
   "id": "8a9e199a",
   "metadata": {},
   "outputs": [],
   "source": [
    "def predict(nfeatures, test_data, model, criterion=nn.MSELoss(), gpu_id=0):\n",
    "\n",
    "    model.eval()\n",
    "    losses=[]\n",
    "    for i, batch in enumerate(test_data):\n",
    "        img = batch['img'].float().to(gpu_id)\n",
    "        spec = batch['spec'].float().to(gpu_id)\n",
    "        fid = batch['fid_pars'].float().view(-1, nfeatures).to(gpu_id)\n",
    "        outputs = model(fid)\n",
    "        loss = criterion(outputs, img)\n",
    "        losses.append(loss.item())\n",
    "        if i == 0:\n",
    "            ids = batch['id'].numpy()\n",
    "            preds = outputs.view(-1, 48, 48).detach().cpu().numpy()\n",
    "            targets = img.view(-1, 48, 48).cpu().numpy()\n",
    "        else:\n",
    "            ids = np.concatenate((ids, batch['id'].numpy()))\n",
    "            preds = np.vstack((preds, outputs.view(-1, 48, 48).detach().cpu().numpy()))\n",
    "            targets = np.vstack((targets, img.view(-1, 48, 48).cpu().numpy()))\n",
    "\n",
    "    epoch_loss = sum(losses) / len(losses)\n",
    "    epoch_loss = np.sqrt(epoch_loss) # comment out if not using MSE\n",
    "\n",
    "    return ids, preds, targets, epoch_loss"
   ]
  },
  {
   "cell_type": "code",
   "execution_count": null,
   "id": "59903c1a",
   "metadata": {},
   "outputs": [],
   "source": []
  }
 ],
 "metadata": {
  "kernelspec": {
   "display_name": "kl-nn",
   "language": "python",
   "name": "kl-nn"
  },
  "language_info": {
   "codemirror_mode": {
    "name": "ipython",
    "version": 3
   },
   "file_extension": ".py",
   "mimetype": "text/x-python",
   "name": "python",
   "nbconvert_exporter": "python",
   "pygments_lexer": "ipython3",
   "version": "3.9.21"
  }
 },
 "nbformat": 4,
 "nbformat_minor": 5
}
