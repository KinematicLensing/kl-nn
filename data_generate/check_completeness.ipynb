{
 "cells": [
  {
   "cell_type": "code",
   "execution_count": 1,
   "id": "297db79b",
   "metadata": {},
   "outputs": [],
   "source": [
    "from os import path\n",
    "from os.path import join\n",
    "import numpy as np\n",
    "import pandas as pd\n",
    "from astropy.io import fits\n",
    "import matplotlib.pyplot as plt\n",
    "\n",
    "filedir = '/xdisk/timeifler/wxs0703/kl_nn/train_data_massive/'"
   ]
  },
  {
   "cell_type": "code",
   "execution_count": 10,
   "id": "14a1d580",
   "metadata": {},
   "outputs": [],
   "source": [
    "no_file = []"
   ]
  },
  {
   "cell_type": "code",
   "execution_count": 11,
   "id": "49523380",
   "metadata": {},
   "outputs": [],
   "source": [
    "for i in range(1000000):\n",
    "    if path.isfile(join(filedir, f'training_{i}.fits')):\n",
    "        pass\n",
    "    else:\n",
    "        no_file.append(i)"
   ]
  },
  {
   "cell_type": "code",
   "execution_count": 2,
   "id": "303676ee",
   "metadata": {},
   "outputs": [],
   "source": [
    "no_file = np.load('no_file.npy')"
   ]
  },
  {
   "cell_type": "code",
   "execution_count": 2,
   "id": "f9837d92",
   "metadata": {},
   "outputs": [],
   "source": [
    "SAMP_FILE = '/xdisk/timeifler/wxs0703/kl_nn/samples/samples_massive.csv'\n",
    "\n",
    "df = pd.read_csv(SAMP_FILE)"
   ]
  },
  {
   "cell_type": "code",
   "execution_count": 3,
   "id": "bfd58b15",
   "metadata": {},
   "outputs": [],
   "source": [
    "g = np.sqrt(df['g1']**2 + df['g2']**2)"
   ]
  },
  {
   "cell_type": "code",
   "execution_count": 4,
   "id": "5d067d2f",
   "metadata": {},
   "outputs": [
    {
     "data": {
      "text/plain": [
       "0.4999998749999844"
      ]
     },
     "execution_count": 4,
     "metadata": {},
     "output_type": "execute_result"
    }
   ],
   "source": [
    "np.max(g)"
   ]
  }
 ],
 "metadata": {
  "kernelspec": {
   "display_name": "Python 3 (ipykernel)",
   "language": "python",
   "name": "python3"
  },
  "language_info": {
   "codemirror_mode": {
    "name": "ipython",
    "version": 3
   },
   "file_extension": ".py",
   "mimetype": "text/x-python",
   "name": "python",
   "nbconvert_exporter": "python",
   "pygments_lexer": "ipython3",
   "version": "3.8.12"
  }
 },
 "nbformat": 4,
 "nbformat_minor": 5
}
