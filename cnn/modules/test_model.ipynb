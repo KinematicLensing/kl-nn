{
 "cells": [
  {
   "cell_type": "code",
   "execution_count": 1,
   "id": "748ac49c",
   "metadata": {},
   "outputs": [],
   "source": [
    "from os.path import join\n",
    "import numpy as np\n",
    "import pandas as pd\n",
    "import torch\n",
    "import torch.multiprocessing as mp\n",
    "from astropy.io import fits\n",
    "\n",
    "from networks import ForkCNN\n",
    "from train import train_nn, prepare_dataloader, ddp_setup\n",
    "from dataset import FiberDataset\n",
    "import config\n",
    "\n",
    "fits_dir = '/xdisk/timeifler/wxs0703/kl_nn/fits/'\n",
    "samp_dir = '/xdisk/timeifler/wxs0703/kl_nn/samples/samples.csv'\n",
    "fig_dir = '/xdisk/timeifler/wxs0703/kl_nn/figures/'"
   ]
  },
  {
   "cell_type": "code",
   "execution_count": 2,
   "id": "827fe39b",
   "metadata": {},
   "outputs": [],
   "source": [
    "world_size = torch.cuda.device_count()\n",
    "save_every = 1\n",
    "nepochs = config.train['epoch_number']\n",
    "batch_size = config.train['batch_size']\n",
    "nfeatures = config.train['feature_number']\n",
    "f_valid = config.train['validation_split']"
   ]
  },
  {
   "cell_type": "code",
   "execution_count": 3,
   "id": "bb680414",
   "metadata": {
    "scrolled": true
   },
   "outputs": [
    {
     "name": "stderr",
     "output_type": "stream",
     "text": [
      "/home/u2/wxs0703/.local/lib/python3.9/site-packages/torch/autograd/graph.py:744: UserWarning: Plan failed with a cudnnException: CUDNN_BACKEND_EXECUTION_PLAN_DESCRIPTOR: cudnnFinalize Descriptor Failed cudnn_status: CUDNN_STATUS_NOT_SUPPORTED (Triggered internally at ../aten/src/ATen/native/cudnn/Conv_v8.cpp:919.)\n",
      "  return Variable._execution_engine.run_backward(  # Calls into the C++ engine to run the backward pass\n",
      "/home/u2/wxs0703/.local/lib/python3.9/site-packages/torch/autograd/graph.py:744: UserWarning: Plan failed with a cudnnException: CUDNN_BACKEND_EXECUTION_PLAN_DESCRIPTOR: cudnnFinalize Descriptor Failed cudnn_status: CUDNN_STATUS_NOT_SUPPORTED (Triggered internally at ../aten/src/ATen/native/cudnn/Conv_v8.cpp:919.)\n",
      "  return Variable._execution_engine.run_backward(  # Calls into the C++ engine to run the backward pass\n",
      "INFO:Trainer:[TRAIN] Epoch: 1 Loss: 0.5708736422848625 Time: 1:6\n",
      "INFO:Trainer:[VALID] Epoch: 1 Loss: 0.5310364911243866 Time: 0:7\n",
      "INFO:Trainer:[TRAIN] Epoch: 2 Loss: 0.5307874991293274 Time: 1:2\n",
      "INFO:Trainer:[VALID] Epoch: 2 Loss: 0.5313864869208963 Time: 0:7\n",
      "INFO:Trainer:[TRAIN] Epoch: 3 Loss: 0.5291456618858504 Time: 1:3\n",
      "INFO:Trainer:[VALID] Epoch: 3 Loss: 0.5297345762235267 Time: 0:7\n",
      "INFO:Trainer:[TRAIN] Epoch: 4 Loss: 0.5282020221752545 Time: 1:3\n",
      "INFO:Trainer:[VALID] Epoch: 4 Loss: 0.5312252656003087 Time: 0:7\n",
      "INFO:Trainer:[TRAIN] Epoch: 5 Loss: 0.5285663707875545 Time: 1:3\n",
      "INFO:Trainer:[VALID] Epoch: 5 Loss: 0.5317688876224482 Time: 0:7\n"
     ]
    },
    {
     "ename": "KeyboardInterrupt",
     "evalue": "",
     "output_type": "error",
     "traceback": [
      "\u001b[0;31m---------------------------------------------------------------------------\u001b[0m",
      "\u001b[0;31mKeyboardInterrupt\u001b[0m                         Traceback (most recent call last)",
      "Cell \u001b[0;32mIn[3], line 1\u001b[0m\n\u001b[0;32m----> 1\u001b[0m \u001b[43mmp\u001b[49m\u001b[38;5;241;43m.\u001b[39;49m\u001b[43mspawn\u001b[49m\u001b[43m(\u001b[49m\u001b[43mtrain_nn\u001b[49m\u001b[43m,\u001b[49m\u001b[43m \u001b[49m\u001b[43margs\u001b[49m\u001b[38;5;241;43m=\u001b[39;49m\u001b[43m(\u001b[49m\u001b[43mworld_size\u001b[49m\u001b[43m,\u001b[49m\u001b[43m \u001b[49m\u001b[43msave_every\u001b[49m\u001b[43m,\u001b[49m\u001b[43m \u001b[49m\u001b[43mnepochs\u001b[49m\u001b[43m,\u001b[49m\u001b[43m \u001b[49m\u001b[43mbatch_size\u001b[49m\u001b[43m,\u001b[49m\u001b[43m \u001b[49m\u001b[43mnfeatures\u001b[49m\u001b[43m,\u001b[49m\u001b[43m \u001b[49m\u001b[43mf_valid\u001b[49m\u001b[43m)\u001b[49m\u001b[43m,\u001b[49m\u001b[43m \u001b[49m\u001b[43mnprocs\u001b[49m\u001b[38;5;241;43m=\u001b[39;49m\u001b[43mworld_size\u001b[49m\u001b[43m)\u001b[49m\n",
      "File \u001b[0;32m~/.local/lib/python3.9/site-packages/torch/multiprocessing/spawn.py:281\u001b[0m, in \u001b[0;36mspawn\u001b[0;34m(fn, args, nprocs, join, daemon, start_method)\u001b[0m\n\u001b[1;32m    275\u001b[0m     msg \u001b[38;5;241m=\u001b[39m (\n\u001b[1;32m    276\u001b[0m         \u001b[38;5;124m\"\u001b[39m\u001b[38;5;124mThis method only supports start_method=spawn (got: \u001b[39m\u001b[38;5;132;01m%s\u001b[39;00m\u001b[38;5;124m).\u001b[39m\u001b[38;5;130;01m\\n\u001b[39;00m\u001b[38;5;124m\"\u001b[39m\n\u001b[1;32m    277\u001b[0m         \u001b[38;5;124m\"\u001b[39m\u001b[38;5;124mTo use a different start_method use:\u001b[39m\u001b[38;5;130;01m\\n\u001b[39;00m\u001b[38;5;130;01m\\t\u001b[39;00m\u001b[38;5;130;01m\\t\u001b[39;00m\u001b[38;5;124m\"\u001b[39m\n\u001b[1;32m    278\u001b[0m         \u001b[38;5;124m\"\u001b[39m\u001b[38;5;124m torch.multiprocessing.start_processes(...)\u001b[39m\u001b[38;5;124m\"\u001b[39m \u001b[38;5;241m%\u001b[39m start_method\n\u001b[1;32m    279\u001b[0m     )\n\u001b[1;32m    280\u001b[0m     warnings\u001b[38;5;241m.\u001b[39mwarn(msg)\n\u001b[0;32m--> 281\u001b[0m \u001b[38;5;28;01mreturn\u001b[39;00m \u001b[43mstart_processes\u001b[49m\u001b[43m(\u001b[49m\u001b[43mfn\u001b[49m\u001b[43m,\u001b[49m\u001b[43m \u001b[49m\u001b[43margs\u001b[49m\u001b[43m,\u001b[49m\u001b[43m \u001b[49m\u001b[43mnprocs\u001b[49m\u001b[43m,\u001b[49m\u001b[43m \u001b[49m\u001b[43mjoin\u001b[49m\u001b[43m,\u001b[49m\u001b[43m \u001b[49m\u001b[43mdaemon\u001b[49m\u001b[43m,\u001b[49m\u001b[43m \u001b[49m\u001b[43mstart_method\u001b[49m\u001b[38;5;241;43m=\u001b[39;49m\u001b[38;5;124;43m\"\u001b[39;49m\u001b[38;5;124;43mspawn\u001b[39;49m\u001b[38;5;124;43m\"\u001b[39;49m\u001b[43m)\u001b[49m\n",
      "File \u001b[0;32m~/.local/lib/python3.9/site-packages/torch/multiprocessing/spawn.py:237\u001b[0m, in \u001b[0;36mstart_processes\u001b[0;34m(fn, args, nprocs, join, daemon, start_method)\u001b[0m\n\u001b[1;32m    234\u001b[0m     \u001b[38;5;28;01mreturn\u001b[39;00m context\n\u001b[1;32m    236\u001b[0m \u001b[38;5;66;03m# Loop on join until it returns True or raises an exception.\u001b[39;00m\n\u001b[0;32m--> 237\u001b[0m \u001b[38;5;28;01mwhile\u001b[39;00m \u001b[38;5;129;01mnot\u001b[39;00m \u001b[43mcontext\u001b[49m\u001b[38;5;241;43m.\u001b[39;49m\u001b[43mjoin\u001b[49m\u001b[43m(\u001b[49m\u001b[43m)\u001b[49m:\n\u001b[1;32m    238\u001b[0m     \u001b[38;5;28;01mpass\u001b[39;00m\n",
      "File \u001b[0;32m~/.local/lib/python3.9/site-packages/torch/multiprocessing/spawn.py:117\u001b[0m, in \u001b[0;36mProcessContext.join\u001b[0;34m(self, timeout)\u001b[0m\n\u001b[1;32m    114\u001b[0m     \u001b[38;5;28;01mreturn\u001b[39;00m \u001b[38;5;28;01mTrue\u001b[39;00m\n\u001b[1;32m    116\u001b[0m \u001b[38;5;66;03m# Wait for any process to fail or all of them to succeed.\u001b[39;00m\n\u001b[0;32m--> 117\u001b[0m ready \u001b[38;5;241m=\u001b[39m \u001b[43mmultiprocessing\u001b[49m\u001b[38;5;241;43m.\u001b[39;49m\u001b[43mconnection\u001b[49m\u001b[38;5;241;43m.\u001b[39;49m\u001b[43mwait\u001b[49m\u001b[43m(\u001b[49m\n\u001b[1;32m    118\u001b[0m \u001b[43m    \u001b[49m\u001b[38;5;28;43mself\u001b[39;49m\u001b[38;5;241;43m.\u001b[39;49m\u001b[43msentinels\u001b[49m\u001b[38;5;241;43m.\u001b[39;49m\u001b[43mkeys\u001b[49m\u001b[43m(\u001b[49m\u001b[43m)\u001b[49m\u001b[43m,\u001b[49m\n\u001b[1;32m    119\u001b[0m \u001b[43m    \u001b[49m\u001b[43mtimeout\u001b[49m\u001b[38;5;241;43m=\u001b[39;49m\u001b[43mtimeout\u001b[49m\u001b[43m,\u001b[49m\n\u001b[1;32m    120\u001b[0m \u001b[43m\u001b[49m\u001b[43m)\u001b[49m\n\u001b[1;32m    122\u001b[0m error_index \u001b[38;5;241m=\u001b[39m \u001b[38;5;28;01mNone\u001b[39;00m\n\u001b[1;32m    123\u001b[0m \u001b[38;5;28;01mfor\u001b[39;00m sentinel \u001b[38;5;129;01min\u001b[39;00m ready:\n",
      "File \u001b[0;32m~/.conda/envs/kl-nn/lib/python3.9/multiprocessing/connection.py:931\u001b[0m, in \u001b[0;36mwait\u001b[0;34m(object_list, timeout)\u001b[0m\n\u001b[1;32m    928\u001b[0m     deadline \u001b[38;5;241m=\u001b[39m time\u001b[38;5;241m.\u001b[39mmonotonic() \u001b[38;5;241m+\u001b[39m timeout\n\u001b[1;32m    930\u001b[0m \u001b[38;5;28;01mwhile\u001b[39;00m \u001b[38;5;28;01mTrue\u001b[39;00m:\n\u001b[0;32m--> 931\u001b[0m     ready \u001b[38;5;241m=\u001b[39m \u001b[43mselector\u001b[49m\u001b[38;5;241;43m.\u001b[39;49m\u001b[43mselect\u001b[49m\u001b[43m(\u001b[49m\u001b[43mtimeout\u001b[49m\u001b[43m)\u001b[49m\n\u001b[1;32m    932\u001b[0m     \u001b[38;5;28;01mif\u001b[39;00m ready:\n\u001b[1;32m    933\u001b[0m         \u001b[38;5;28;01mreturn\u001b[39;00m [key\u001b[38;5;241m.\u001b[39mfileobj \u001b[38;5;28;01mfor\u001b[39;00m (key, events) \u001b[38;5;129;01min\u001b[39;00m ready]\n",
      "File \u001b[0;32m~/.conda/envs/kl-nn/lib/python3.9/selectors.py:416\u001b[0m, in \u001b[0;36m_PollLikeSelector.select\u001b[0;34m(self, timeout)\u001b[0m\n\u001b[1;32m    414\u001b[0m ready \u001b[38;5;241m=\u001b[39m []\n\u001b[1;32m    415\u001b[0m \u001b[38;5;28;01mtry\u001b[39;00m:\n\u001b[0;32m--> 416\u001b[0m     fd_event_list \u001b[38;5;241m=\u001b[39m \u001b[38;5;28;43mself\u001b[39;49m\u001b[38;5;241;43m.\u001b[39;49m\u001b[43m_selector\u001b[49m\u001b[38;5;241;43m.\u001b[39;49m\u001b[43mpoll\u001b[49m\u001b[43m(\u001b[49m\u001b[43mtimeout\u001b[49m\u001b[43m)\u001b[49m\n\u001b[1;32m    417\u001b[0m \u001b[38;5;28;01mexcept\u001b[39;00m \u001b[38;5;167;01mInterruptedError\u001b[39;00m:\n\u001b[1;32m    418\u001b[0m     \u001b[38;5;28;01mreturn\u001b[39;00m ready\n",
      "\u001b[0;31mKeyboardInterrupt\u001b[0m: "
     ]
    }
   ],
   "source": [
    "mp.spawn(train_nn, args=(world_size, save_every, nepochs, batch_size, nfeatures, f_valid), nprocs=world_size)"
   ]
  },
  {
   "cell_type": "code",
   "execution_count": 3,
   "id": "8b42c24b",
   "metadata": {},
   "outputs": [
    {
     "name": "stdout",
     "output_type": "stream",
     "text": [
      "{'g1': [-1, 1], 'g2': [-1, 1], 'theta_int': [-3.141592653589793, 3.141592653589793], 'sini': [0, 1], 'v0': [-30, 30], 'vcirc': [60, 540], 'rscale': [0.1, 10], 'hlr': [0.1, 5]}\n"
     ]
    }
   ],
   "source": [
    "samples = pd.read_csv(samp_dir)\n",
    "ranges = config.par_ranges\n",
    "print(ranges)"
   ]
  },
  {
   "cell_type": "code",
   "execution_count": 4,
   "id": "7f095595",
   "metadata": {},
   "outputs": [
    {
     "data": {
      "text/html": [
       "<div>\n",
       "<style scoped>\n",
       "    .dataframe tbody tr th:only-of-type {\n",
       "        vertical-align: middle;\n",
       "    }\n",
       "\n",
       "    .dataframe tbody tr th {\n",
       "        vertical-align: top;\n",
       "    }\n",
       "\n",
       "    .dataframe thead th {\n",
       "        text-align: right;\n",
       "    }\n",
       "</style>\n",
       "<table border=\"1\" class=\"dataframe\">\n",
       "  <thead>\n",
       "    <tr style=\"text-align: right;\">\n",
       "      <th></th>\n",
       "      <th>ID</th>\n",
       "      <th>g1</th>\n",
       "      <th>g2</th>\n",
       "      <th>theta_int</th>\n",
       "      <th>sini</th>\n",
       "      <th>v0</th>\n",
       "      <th>vcirc</th>\n",
       "      <th>rscale</th>\n",
       "      <th>hlr</th>\n",
       "    </tr>\n",
       "  </thead>\n",
       "  <tbody>\n",
       "    <tr>\n",
       "      <th>0</th>\n",
       "      <td>0</td>\n",
       "      <td>-0.067114</td>\n",
       "      <td>0.109753</td>\n",
       "      <td>-1.315385</td>\n",
       "      <td>0.28175</td>\n",
       "      <td>-21.627</td>\n",
       "      <td>482.040</td>\n",
       "      <td>1.550845</td>\n",
       "      <td>4.050135</td>\n",
       "    </tr>\n",
       "    <tr>\n",
       "      <th>1</th>\n",
       "      <td>1</td>\n",
       "      <td>0.920613</td>\n",
       "      <td>-0.272803</td>\n",
       "      <td>1.735730</td>\n",
       "      <td>0.28755</td>\n",
       "      <td>-1.203</td>\n",
       "      <td>175.848</td>\n",
       "      <td>9.423325</td>\n",
       "      <td>4.075125</td>\n",
       "    </tr>\n",
       "    <tr>\n",
       "      <th>2</th>\n",
       "      <td>2</td>\n",
       "      <td>-0.065653</td>\n",
       "      <td>-0.429348</td>\n",
       "      <td>-1.163332</td>\n",
       "      <td>0.42925</td>\n",
       "      <td>17.643</td>\n",
       "      <td>429.576</td>\n",
       "      <td>2.263645</td>\n",
       "      <td>0.675015</td>\n",
       "    </tr>\n",
       "    <tr>\n",
       "      <th>3</th>\n",
       "      <td>3</td>\n",
       "      <td>-0.393528</td>\n",
       "      <td>-0.552889</td>\n",
       "      <td>2.840314</td>\n",
       "      <td>0.28665</td>\n",
       "      <td>-6.669</td>\n",
       "      <td>227.688</td>\n",
       "      <td>2.423035</td>\n",
       "      <td>4.975745</td>\n",
       "    </tr>\n",
       "    <tr>\n",
       "      <th>4</th>\n",
       "      <td>4</td>\n",
       "      <td>0.923271</td>\n",
       "      <td>-0.042668</td>\n",
       "      <td>-1.792279</td>\n",
       "      <td>0.48335</td>\n",
       "      <td>-6.495</td>\n",
       "      <td>175.704</td>\n",
       "      <td>6.936445</td>\n",
       "      <td>3.292595</td>\n",
       "    </tr>\n",
       "    <tr>\n",
       "      <th>...</th>\n",
       "      <td>...</td>\n",
       "      <td>...</td>\n",
       "      <td>...</td>\n",
       "      <td>...</td>\n",
       "      <td>...</td>\n",
       "      <td>...</td>\n",
       "      <td>...</td>\n",
       "      <td>...</td>\n",
       "      <td>...</td>\n",
       "    </tr>\n",
       "    <tr>\n",
       "      <th>9995</th>\n",
       "      <td>9995</td>\n",
       "      <td>-0.289780</td>\n",
       "      <td>-0.840344</td>\n",
       "      <td>-0.854199</td>\n",
       "      <td>0.16495</td>\n",
       "      <td>23.817</td>\n",
       "      <td>457.800</td>\n",
       "      <td>6.810715</td>\n",
       "      <td>4.996325</td>\n",
       "    </tr>\n",
       "    <tr>\n",
       "      <th>9996</th>\n",
       "      <td>9996</td>\n",
       "      <td>0.358207</td>\n",
       "      <td>0.179549</td>\n",
       "      <td>-3.129340</td>\n",
       "      <td>0.21495</td>\n",
       "      <td>-14.667</td>\n",
       "      <td>437.688</td>\n",
       "      <td>5.492035</td>\n",
       "      <td>1.521735</td>\n",
       "    </tr>\n",
       "    <tr>\n",
       "      <th>9997</th>\n",
       "      <td>9997</td>\n",
       "      <td>-0.072135</td>\n",
       "      <td>0.449051</td>\n",
       "      <td>2.426252</td>\n",
       "      <td>0.76325</td>\n",
       "      <td>-1.377</td>\n",
       "      <td>455.400</td>\n",
       "      <td>9.077815</td>\n",
       "      <td>2.435095</td>\n",
       "    </tr>\n",
       "    <tr>\n",
       "      <th>9998</th>\n",
       "      <td>9998</td>\n",
       "      <td>0.421660</td>\n",
       "      <td>-0.251699</td>\n",
       "      <td>0.771889</td>\n",
       "      <td>0.74685</td>\n",
       "      <td>21.183</td>\n",
       "      <td>189.192</td>\n",
       "      <td>2.064655</td>\n",
       "      <td>2.212635</td>\n",
       "    </tr>\n",
       "    <tr>\n",
       "      <th>9999</th>\n",
       "      <td>9999</td>\n",
       "      <td>-0.423241</td>\n",
       "      <td>0.635151</td>\n",
       "      <td>-0.306305</td>\n",
       "      <td>0.56325</td>\n",
       "      <td>18.165</td>\n",
       "      <td>518.808</td>\n",
       "      <td>7.605685</td>\n",
       "      <td>2.180785</td>\n",
       "    </tr>\n",
       "  </tbody>\n",
       "</table>\n",
       "<p>10000 rows × 9 columns</p>\n",
       "</div>"
      ],
      "text/plain": [
       "        ID        g1        g2  theta_int     sini      v0    vcirc    rscale  \\\n",
       "0        0 -0.067114  0.109753  -1.315385  0.28175 -21.627  482.040  1.550845   \n",
       "1        1  0.920613 -0.272803   1.735730  0.28755  -1.203  175.848  9.423325   \n",
       "2        2 -0.065653 -0.429348  -1.163332  0.42925  17.643  429.576  2.263645   \n",
       "3        3 -0.393528 -0.552889   2.840314  0.28665  -6.669  227.688  2.423035   \n",
       "4        4  0.923271 -0.042668  -1.792279  0.48335  -6.495  175.704  6.936445   \n",
       "...    ...       ...       ...        ...      ...     ...      ...       ...   \n",
       "9995  9995 -0.289780 -0.840344  -0.854199  0.16495  23.817  457.800  6.810715   \n",
       "9996  9996  0.358207  0.179549  -3.129340  0.21495 -14.667  437.688  5.492035   \n",
       "9997  9997 -0.072135  0.449051   2.426252  0.76325  -1.377  455.400  9.077815   \n",
       "9998  9998  0.421660 -0.251699   0.771889  0.74685  21.183  189.192  2.064655   \n",
       "9999  9999 -0.423241  0.635151  -0.306305  0.56325  18.165  518.808  7.605685   \n",
       "\n",
       "           hlr  \n",
       "0     4.050135  \n",
       "1     4.075125  \n",
       "2     0.675015  \n",
       "3     4.975745  \n",
       "4     3.292595  \n",
       "...        ...  \n",
       "9995  4.996325  \n",
       "9996  1.521735  \n",
       "9997  2.435095  \n",
       "9998  2.212635  \n",
       "9999  2.180785  \n",
       "\n",
       "[10000 rows x 9 columns]"
      ]
     },
     "execution_count": 4,
     "metadata": {},
     "output_type": "execute_result"
    }
   ],
   "source": [
    "samples"
   ]
  },
  {
   "cell_type": "code",
   "execution_count": 5,
   "id": "cb625fa1",
   "metadata": {},
   "outputs": [],
   "source": [
    "for par, values in samples.items():\n",
    "    if par != 'ID':\n",
    "        low, high = ranges[par]\n",
    "        values -= low\n",
    "        values /= high-low"
   ]
  },
  {
   "cell_type": "code",
   "execution_count": 6,
   "id": "3c99b5dc",
   "metadata": {},
   "outputs": [
    {
     "data": {
      "text/plain": [
       "array([0.46644282, 0.55487637, 0.29065   , 0.28175   , 0.13955   ,\n",
       "       0.87925   , 0.14655   , 0.80615   ])"
      ]
     },
     "execution_count": 6,
     "metadata": {},
     "output_type": "execute_result"
    }
   ],
   "source": [
    "np.array(samples.iloc[0])[1:]"
   ]
  }
 ],
 "metadata": {
  "kernelspec": {
   "display_name": "kl-nn",
   "language": "python",
   "name": "kl-nn"
  },
  "language_info": {
   "codemirror_mode": {
    "name": "ipython",
    "version": 3
   },
   "file_extension": ".py",
   "mimetype": "text/x-python",
   "name": "python",
   "nbconvert_exporter": "python",
   "pygments_lexer": "ipython3",
   "version": "3.9.19"
  }
 },
 "nbformat": 4,
 "nbformat_minor": 5
}
